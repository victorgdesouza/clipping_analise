{
  "nbformat": 4,
  "nbformat_minor": 0,
  "metadata": {
    "colab": {
      "provenance": []
    },
    "kernelspec": {
      "name": "python3",
      "display_name": "Python 3"
    },
    "language_info": {
      "name": "python"
    },
    "widgets": {
      "application/vnd.jupyter.widget-state+json": {
        "257ab5ac0c3c4885b832c2c70944a5d2": {
          "model_module": "@jupyter-widgets/controls",
          "model_name": "TextModel",
          "model_module_version": "1.5.0",
          "state": {
            "_dom_classes": [],
            "_model_module": "@jupyter-widgets/controls",
            "_model_module_version": "1.5.0",
            "_model_name": "TextModel",
            "_view_count": null,
            "_view_module": "@jupyter-widgets/controls",
            "_view_module_version": "1.5.0",
            "_view_name": "TextView",
            "continuous_update": true,
            "description": "Nome:",
            "description_tooltip": null,
            "disabled": false,
            "layout": "IPY_MODEL_0ca9366a64c1440eb2c8d6a43ee54180",
            "placeholder": "Nome do cliente",
            "style": "IPY_MODEL_919968ca3c4c44e1a67c2ebd1d0b2b42",
            "value": "Thermas dos Laranjais"
          }
        },
        "0ca9366a64c1440eb2c8d6a43ee54180": {
          "model_module": "@jupyter-widgets/base",
          "model_name": "LayoutModel",
          "model_module_version": "1.2.0",
          "state": {
            "_model_module": "@jupyter-widgets/base",
            "_model_module_version": "1.2.0",
            "_model_name": "LayoutModel",
            "_view_count": null,
            "_view_module": "@jupyter-widgets/base",
            "_view_module_version": "1.2.0",
            "_view_name": "LayoutView",
            "align_content": null,
            "align_items": null,
            "align_self": null,
            "border": null,
            "bottom": null,
            "display": null,
            "flex": null,
            "flex_flow": null,
            "grid_area": null,
            "grid_auto_columns": null,
            "grid_auto_flow": null,
            "grid_auto_rows": null,
            "grid_column": null,
            "grid_gap": null,
            "grid_row": null,
            "grid_template_areas": null,
            "grid_template_columns": null,
            "grid_template_rows": null,
            "height": null,
            "justify_content": null,
            "justify_items": null,
            "left": null,
            "margin": null,
            "max_height": null,
            "max_width": null,
            "min_height": null,
            "min_width": null,
            "object_fit": null,
            "object_position": null,
            "order": null,
            "overflow": null,
            "overflow_x": null,
            "overflow_y": null,
            "padding": null,
            "right": null,
            "top": null,
            "visibility": null,
            "width": "400px"
          }
        },
        "919968ca3c4c44e1a67c2ebd1d0b2b42": {
          "model_module": "@jupyter-widgets/controls",
          "model_name": "DescriptionStyleModel",
          "model_module_version": "1.5.0",
          "state": {
            "_model_module": "@jupyter-widgets/controls",
            "_model_module_version": "1.5.0",
            "_model_name": "DescriptionStyleModel",
            "_view_count": null,
            "_view_module": "@jupyter-widgets/base",
            "_view_module_version": "1.2.0",
            "_view_name": "StyleView",
            "description_width": "70px"
          }
        },
        "3e29716fe8e64d50ac99b975992192ac": {
          "model_module": "@jupyter-widgets/controls",
          "model_name": "TextModel",
          "model_module_version": "1.5.0",
          "state": {
            "_dom_classes": [],
            "_model_module": "@jupyter-widgets/controls",
            "_model_module_version": "1.5.0",
            "_model_name": "TextModel",
            "_view_count": null,
            "_view_module": "@jupyter-widgets/controls",
            "_view_module_version": "1.5.0",
            "_view_name": "TextView",
            "continuous_update": true,
            "description": "Keywords:",
            "description_tooltip": null,
            "disabled": false,
            "layout": "IPY_MODEL_8e1f68a755674cc5b00b4bc9324751e3",
            "placeholder": "Palavras-chave separadas por vírgula",
            "style": "IPY_MODEL_0afbee956033450184a1c5e29d5b3e72",
            "value": "Thermas dos Laranjais, parque de diversão"
          }
        },
        "8e1f68a755674cc5b00b4bc9324751e3": {
          "model_module": "@jupyter-widgets/base",
          "model_name": "LayoutModel",
          "model_module_version": "1.2.0",
          "state": {
            "_model_module": "@jupyter-widgets/base",
            "_model_module_version": "1.2.0",
            "_model_name": "LayoutModel",
            "_view_count": null,
            "_view_module": "@jupyter-widgets/base",
            "_view_module_version": "1.2.0",
            "_view_name": "LayoutView",
            "align_content": null,
            "align_items": null,
            "align_self": null,
            "border": null,
            "bottom": null,
            "display": null,
            "flex": null,
            "flex_flow": null,
            "grid_area": null,
            "grid_auto_columns": null,
            "grid_auto_flow": null,
            "grid_auto_rows": null,
            "grid_column": null,
            "grid_gap": null,
            "grid_row": null,
            "grid_template_areas": null,
            "grid_template_columns": null,
            "grid_template_rows": null,
            "height": null,
            "justify_content": null,
            "justify_items": null,
            "left": null,
            "margin": null,
            "max_height": null,
            "max_width": null,
            "min_height": null,
            "min_width": null,
            "object_fit": null,
            "object_position": null,
            "order": null,
            "overflow": null,
            "overflow_x": null,
            "overflow_y": null,
            "padding": null,
            "right": null,
            "top": null,
            "visibility": null,
            "width": "400px"
          }
        },
        "0afbee956033450184a1c5e29d5b3e72": {
          "model_module": "@jupyter-widgets/controls",
          "model_name": "DescriptionStyleModel",
          "model_module_version": "1.5.0",
          "state": {
            "_model_module": "@jupyter-widgets/controls",
            "_model_module_version": "1.5.0",
            "_model_name": "DescriptionStyleModel",
            "_view_count": null,
            "_view_module": "@jupyter-widgets/base",
            "_view_module_version": "1.2.0",
            "_view_name": "StyleView",
            "description_width": "70px"
          }
        },
        "c87a645aa1be49d285ebee4d05b49b80": {
          "model_module": "@jupyter-widgets/controls",
          "model_name": "ButtonModel",
          "model_module_version": "1.5.0",
          "state": {
            "_dom_classes": [],
            "_model_module": "@jupyter-widgets/controls",
            "_model_module_version": "1.5.0",
            "_model_name": "ButtonModel",
            "_view_count": null,
            "_view_module": "@jupyter-widgets/controls",
            "_view_module_version": "1.5.0",
            "_view_name": "ButtonView",
            "button_style": "",
            "description": "Cadastrar Cliente",
            "disabled": false,
            "icon": "",
            "layout": "IPY_MODEL_96808af3a68e4e05a14058c741bd4055",
            "style": "IPY_MODEL_e4f856763fca456188049a8103f13680",
            "tooltip": ""
          }
        },
        "96808af3a68e4e05a14058c741bd4055": {
          "model_module": "@jupyter-widgets/base",
          "model_name": "LayoutModel",
          "model_module_version": "1.2.0",
          "state": {
            "_model_module": "@jupyter-widgets/base",
            "_model_module_version": "1.2.0",
            "_model_name": "LayoutModel",
            "_view_count": null,
            "_view_module": "@jupyter-widgets/base",
            "_view_module_version": "1.2.0",
            "_view_name": "LayoutView",
            "align_content": null,
            "align_items": null,
            "align_self": null,
            "border": null,
            "bottom": null,
            "display": null,
            "flex": null,
            "flex_flow": null,
            "grid_area": null,
            "grid_auto_columns": null,
            "grid_auto_flow": null,
            "grid_auto_rows": null,
            "grid_column": null,
            "grid_gap": null,
            "grid_row": null,
            "grid_template_areas": null,
            "grid_template_columns": null,
            "grid_template_rows": null,
            "height": null,
            "justify_content": null,
            "justify_items": null,
            "left": null,
            "margin": null,
            "max_height": null,
            "max_width": null,
            "min_height": null,
            "min_width": null,
            "object_fit": null,
            "object_position": null,
            "order": null,
            "overflow": null,
            "overflow_x": null,
            "overflow_y": null,
            "padding": null,
            "right": null,
            "top": null,
            "visibility": null,
            "width": "400px"
          }
        },
        "e4f856763fca456188049a8103f13680": {
          "model_module": "@jupyter-widgets/controls",
          "model_name": "ButtonStyleModel",
          "model_module_version": "1.5.0",
          "state": {
            "_model_module": "@jupyter-widgets/controls",
            "_model_module_version": "1.5.0",
            "_model_name": "ButtonStyleModel",
            "_view_count": null,
            "_view_module": "@jupyter-widgets/base",
            "_view_module_version": "1.2.0",
            "_view_name": "StyleView",
            "button_color": "#6f42c1",
            "font_weight": "bold"
          }
        },
        "0d931f5e65c94b768fb12db363bd2eef": {
          "model_module": "@jupyter-widgets/output",
          "model_name": "OutputModel",
          "model_module_version": "1.0.0",
          "state": {
            "_dom_classes": [],
            "_model_module": "@jupyter-widgets/output",
            "_model_module_version": "1.0.0",
            "_model_name": "OutputModel",
            "_view_count": null,
            "_view_module": "@jupyter-widgets/output",
            "_view_module_version": "1.0.0",
            "_view_name": "OutputView",
            "layout": "IPY_MODEL_6fab0d4c4be649d1a727219b7c0d3559",
            "msg_id": "",
            "outputs": [
              {
                "output_type": "stream",
                "name": "stdout",
                "text": [
                  "\u001b[94mCliente cadastrado com sucesso!\u001b[0m\n",
                  "Clientes cadastrados:\n",
                  "1. Thermas dos Laranjais - Thermas dos Laranjais, parque de diversão\n"
                ]
              }
            ]
          }
        },
        "6fab0d4c4be649d1a727219b7c0d3559": {
          "model_module": "@jupyter-widgets/base",
          "model_name": "LayoutModel",
          "model_module_version": "1.2.0",
          "state": {
            "_model_module": "@jupyter-widgets/base",
            "_model_module_version": "1.2.0",
            "_model_name": "LayoutModel",
            "_view_count": null,
            "_view_module": "@jupyter-widgets/base",
            "_view_module_version": "1.2.0",
            "_view_name": "LayoutView",
            "align_content": null,
            "align_items": null,
            "align_self": null,
            "border": null,
            "bottom": null,
            "display": null,
            "flex": null,
            "flex_flow": null,
            "grid_area": null,
            "grid_auto_columns": null,
            "grid_auto_flow": null,
            "grid_auto_rows": null,
            "grid_column": null,
            "grid_gap": null,
            "grid_row": null,
            "grid_template_areas": null,
            "grid_template_columns": null,
            "grid_template_rows": null,
            "height": null,
            "justify_content": null,
            "justify_items": null,
            "left": null,
            "margin": null,
            "max_height": null,
            "max_width": null,
            "min_height": null,
            "min_width": null,
            "object_fit": null,
            "object_position": null,
            "order": null,
            "overflow": null,
            "overflow_x": null,
            "overflow_y": null,
            "padding": null,
            "right": null,
            "top": null,
            "visibility": null,
            "width": null
          }
        },
        "2121c49e1a7b48fc91c365d82436539a": {
          "model_module": "@jupyter-widgets/controls",
          "model_name": "DropdownModel",
          "model_module_version": "1.5.0",
          "state": {
            "_dom_classes": [],
            "_model_module": "@jupyter-widgets/controls",
            "_model_module_version": "1.5.0",
            "_model_name": "DropdownModel",
            "_options_labels": [
              "Thermas dos Laranjais - Thermas dos Laranjais, parque de diversão"
            ],
            "_view_count": null,
            "_view_module": "@jupyter-widgets/controls",
            "_view_module_version": "1.5.0",
            "_view_name": "DropdownView",
            "description": "Cliente:",
            "description_tooltip": null,
            "disabled": false,
            "index": 0,
            "layout": "IPY_MODEL_8e9df319f0144df587778abe50796fa8",
            "style": "IPY_MODEL_dca11f73308744fbb199231154e046ad"
          }
        },
        "8e9df319f0144df587778abe50796fa8": {
          "model_module": "@jupyter-widgets/base",
          "model_name": "LayoutModel",
          "model_module_version": "1.2.0",
          "state": {
            "_model_module": "@jupyter-widgets/base",
            "_model_module_version": "1.2.0",
            "_model_name": "LayoutModel",
            "_view_count": null,
            "_view_module": "@jupyter-widgets/base",
            "_view_module_version": "1.2.0",
            "_view_name": "LayoutView",
            "align_content": null,
            "align_items": null,
            "align_self": null,
            "border": null,
            "bottom": null,
            "display": null,
            "flex": null,
            "flex_flow": null,
            "grid_area": null,
            "grid_auto_columns": null,
            "grid_auto_flow": null,
            "grid_auto_rows": null,
            "grid_column": null,
            "grid_gap": null,
            "grid_row": null,
            "grid_template_areas": null,
            "grid_template_columns": null,
            "grid_template_rows": null,
            "height": null,
            "justify_content": null,
            "justify_items": null,
            "left": null,
            "margin": null,
            "max_height": null,
            "max_width": null,
            "min_height": null,
            "min_width": null,
            "object_fit": null,
            "object_position": null,
            "order": null,
            "overflow": null,
            "overflow_x": null,
            "overflow_y": null,
            "padding": null,
            "right": null,
            "top": null,
            "visibility": null,
            "width": "400px"
          }
        },
        "dca11f73308744fbb199231154e046ad": {
          "model_module": "@jupyter-widgets/controls",
          "model_name": "DescriptionStyleModel",
          "model_module_version": "1.5.0",
          "state": {
            "_model_module": "@jupyter-widgets/controls",
            "_model_module_version": "1.5.0",
            "_model_name": "DescriptionStyleModel",
            "_view_count": null,
            "_view_module": "@jupyter-widgets/base",
            "_view_module_version": "1.2.0",
            "_view_name": "StyleView",
            "description_width": "75px"
          }
        },
        "4d68d169534e4843915bd2d4f248310a": {
          "model_module": "@jupyter-widgets/controls",
          "model_name": "ButtonModel",
          "model_module_version": "1.5.0",
          "state": {
            "_dom_classes": [],
            "_model_module": "@jupyter-widgets/controls",
            "_model_module_version": "1.5.0",
            "_model_name": "ButtonModel",
            "_view_count": null,
            "_view_module": "@jupyter-widgets/controls",
            "_view_module_version": "1.5.0",
            "_view_name": "ButtonView",
            "button_style": "",
            "description": "Buscar Notícias",
            "disabled": false,
            "icon": "",
            "layout": "IPY_MODEL_f71b69e630f54a15af5ceda67d89ddf9",
            "style": "IPY_MODEL_75dc53492eac43d987285d525247c3d4",
            "tooltip": ""
          }
        },
        "f71b69e630f54a15af5ceda67d89ddf9": {
          "model_module": "@jupyter-widgets/base",
          "model_name": "LayoutModel",
          "model_module_version": "1.2.0",
          "state": {
            "_model_module": "@jupyter-widgets/base",
            "_model_module_version": "1.2.0",
            "_model_name": "LayoutModel",
            "_view_count": null,
            "_view_module": "@jupyter-widgets/base",
            "_view_module_version": "1.2.0",
            "_view_name": "LayoutView",
            "align_content": null,
            "align_items": null,
            "align_self": null,
            "border": null,
            "bottom": null,
            "display": null,
            "flex": null,
            "flex_flow": null,
            "grid_area": null,
            "grid_auto_columns": null,
            "grid_auto_flow": null,
            "grid_auto_rows": null,
            "grid_column": null,
            "grid_gap": null,
            "grid_row": null,
            "grid_template_areas": null,
            "grid_template_columns": null,
            "grid_template_rows": null,
            "height": null,
            "justify_content": null,
            "justify_items": null,
            "left": null,
            "margin": null,
            "max_height": null,
            "max_width": null,
            "min_height": null,
            "min_width": null,
            "object_fit": null,
            "object_position": null,
            "order": null,
            "overflow": null,
            "overflow_x": null,
            "overflow_y": null,
            "padding": null,
            "right": null,
            "top": null,
            "visibility": null,
            "width": "400px"
          }
        },
        "75dc53492eac43d987285d525247c3d4": {
          "model_module": "@jupyter-widgets/controls",
          "model_name": "ButtonStyleModel",
          "model_module_version": "1.5.0",
          "state": {
            "_model_module": "@jupyter-widgets/controls",
            "_model_module_version": "1.5.0",
            "_model_name": "ButtonStyleModel",
            "_view_count": null,
            "_view_module": "@jupyter-widgets/base",
            "_view_module_version": "1.2.0",
            "_view_name": "StyleView",
            "button_color": "#0d6efd",
            "font_weight": "bold"
          }
        },
        "6a73f507c7864a9a8e0a237da63b9341": {
          "model_module": "@jupyter-widgets/output",
          "model_name": "OutputModel",
          "model_module_version": "1.0.0",
          "state": {
            "_dom_classes": [],
            "_model_module": "@jupyter-widgets/output",
            "_model_module_version": "1.0.0",
            "_model_name": "OutputModel",
            "_view_count": null,
            "_view_module": "@jupyter-widgets/output",
            "_view_module_version": "1.0.0",
            "_view_name": "OutputView",
            "layout": "IPY_MODEL_cb624016199e4a6eb9b0a6fbffe2d22a",
            "msg_id": "",
            "outputs": [
              {
                "output_type": "display_data",
                "data": {
                  "text/plain": "<IPython.core.display.HTML object>",
                  "text/html": "<div style=\"color:#fff; background:#0d6efd; padding:8px; border-radius:6px; margin-bottom:12px;\">11 notícias encontradas para <b>Thermas dos Laranjais</b>!</div>"
                },
                "metadata": {}
              },
              {
                "output_type": "display_data",
                "data": {
                  "text/plain": "<IPython.core.display.HTML object>",
                  "text/html": "\n                <div style=\"background: #f5f6fa; border-left: 4px solid #6f42c1; padding:12px; margin-bottom:10px; border-radius:8px;\">\n                  <span style=\"color:#0d6efd; font-weight:bold;\">1.</span>\n                  <span style=\"color:#222; font-size:1.08em; font-weight:bold;\">Thermas de São Pedro - Parque Aquático em SP - Thermas de São Pedro</span><br>\n                  <a href=\"https://news.google.com/rss/articles/CBMiQEFVX3lxTE5yR2t4TURDcjR4b3dpTG9BaUxzMGFEU0s5LUU2UF85akhOWnlta3A2SmpCd3IxZlM5N2lqWmFQNko?oc=5\" target=\"_blank\" style=\"color:#6f42c1; text-decoration:underline;\">Acessar notícia</a>\n                </div>\n                "
                },
                "metadata": {}
              },
              {
                "output_type": "display_data",
                "data": {
                  "text/plain": "<IPython.core.display.HTML object>",
                  "text/html": "\n                <div style=\"background: #f5f6fa; border-left: 4px solid #6f42c1; padding:12px; margin-bottom:10px; border-radius:8px;\">\n                  <span style=\"color:#0d6efd; font-weight:bold;\">2.</span>\n                  <span style=\"color:#222; font-size:1.08em; font-weight:bold;\">Acquathermas Operadora de Turismo - acquaparques.com.br</span><br>\n                  <a href=\"https://news.google.com/rss/articles/CBMiQkFVX3lxTFBCcGtUc2llYzVXUzNKSkdTSTFsV3l4N1JCR0sxaXMyYk1HTEMtVGJDQ1VtcjA2eTR6ZDB2OFdtRUVJZw?oc=5\" target=\"_blank\" style=\"color:#6f42c1; text-decoration:underline;\">Acessar notícia</a>\n                </div>\n                "
                },
                "metadata": {}
              },
              {
                "output_type": "display_data",
                "data": {
                  "text/plain": "<IPython.core.display.HTML object>",
                  "text/html": "\n                <div style=\"background: #f5f6fa; border-left: 4px solid #6f42c1; padding:12px; margin-bottom:10px; border-radius:8px;\">\n                  <span style=\"color:#0d6efd; font-weight:bold;\">3.</span>\n                  <span style=\"color:#222; font-size:1.08em; font-weight:bold;\">Conheça os Resorts de Olímpia - olimpiaresorts.com.br</span><br>\n                  <a href=\"https://news.google.com/rss/articles/CBMiR0FVX3lxTE90ZVNIX2owWWIyM29aRVJrQllxVVFiZ3k2T0RPTTJ2eWJ5S1ZGQnB4cWZra2lDZ1ZNdFBYd3dLNGhpaVNrWnI0?oc=5\" target=\"_blank\" style=\"color:#6f42c1; text-decoration:underline;\">Acessar notícia</a>\n                </div>\n                "
                },
                "metadata": {}
              },
              {
                "output_type": "display_data",
                "data": {
                  "text/plain": "<IPython.core.display.HTML object>",
                  "text/html": "\n                <div style=\"background: #f5f6fa; border-left: 4px solid #6f42c1; padding:12px; margin-bottom:10px; border-radius:8px;\">\n                  <span style=\"color:#0d6efd; font-weight:bold;\">4.</span>\n                  <span style=\"color:#222; font-size:1.08em; font-weight:bold;\">São Paulo promove atrativos no maior evento de parques e entretenimento do Brasil - Portal ABC do ABC</span><br>\n                  <a href=\"https://news.google.com/rss/articles/CBMiqgFBVV95cUxOR2xMZFhtNGJvODdHdEluOWViTzM1cmY4TVhiOFFKa1NNck1ILU0zM2NJdm5EaUJJOUhpSEo5eFlaaTBnbUJ6dE9MZ2dvYVlQZU1qUTlmb1BSVUdGdTJPVC10aFA2T1NoaTg3RVZMUG8zbHZ5ZEdER1BVY210U3Q3T2xtZ09XUnBnS1V5UVBBZXJzZHFoRk5SclhLYjNMQkwyNWRsSVVrU014Zw?oc=5\" target=\"_blank\" style=\"color:#6f42c1; text-decoration:underline;\">Acessar notícia</a>\n                </div>\n                "
                },
                "metadata": {}
              },
              {
                "output_type": "display_data",
                "data": {
                  "text/plain": "<IPython.core.display.HTML object>",
                  "text/html": "\n                <div style=\"background: #f5f6fa; border-left: 4px solid #6f42c1; padding:12px; margin-bottom:10px; border-radius:8px;\">\n                  <span style=\"color:#0d6efd; font-weight:bold;\">5.</span>\n                  <span style=\"color:#222; font-size:1.08em; font-weight:bold;\">Hot Park é sinônimo de diversão o ano todo - Rio Quente</span><br>\n                  <a href=\"https://news.google.com/rss/articles/CBMiTkFVX3lxTFBlYnZLenU5eFRsOHhSak5pUDlBUVBVTVRXMHFrSDZnemZIeEFfLTNrMGhYdnpxTXZGaWFuaDE1ZGkxU0NGck1lajR2Rkpudw?oc=5\" target=\"_blank\" style=\"color:#6f42c1; text-decoration:underline;\">Acessar notícia</a>\n                </div>\n                "
                },
                "metadata": {}
              },
              {
                "output_type": "display_data",
                "data": {
                  "text/plain": "<IPython.core.display.HTML object>",
                  "text/html": "\n                <div style=\"background: #f5f6fa; border-left: 4px solid #6f42c1; padding:12px; margin-bottom:10px; border-radius:8px;\">\n                  <span style=\"color:#0d6efd; font-weight:bold;\">6.</span>\n                  <span style=\"color:#222; font-size:1.08em; font-weight:bold;\">Montanha Russa Aquática - Thermas dos Laranjais</span><br>\n                  <a href=\"https://news.google.com/rss/articles/CBMifkFVX3lxTFB6dlZCUXZSTjhNRklnSEpUTFBsRXhHU2hFd0loaFlxOUd6cVRTSTNwTmtFNlBWNWR3WklybDZtLXdRNFdQcmR0Y2d5cHc5X1AtMGNqaGx5Q3NRYzFaWVRuN1AtWC1LUkVsaERaakkyQW4wNGdvVjROX3NCamVrQdIBgwFBVV95cUxOYUxyNzI2YkVlOVFHVzlramtLbkIxazVFUTBuVS1ncTNrRFBYUnY5UEZKdVlBcTN0NGhLTjFNS1dTcUxpeFpoSG1SN2lmNWRMa1lHUl9yUU1CdGZSVzlzRC1wZG1VN3NzUllnR2RvSkRuc0tBWC1mVFRnWWRnd05wUGJFWQ?oc=5\" target=\"_blank\" style=\"color:#6f42c1; text-decoration:underline;\">Acessar notícia</a>\n                </div>\n                "
                },
                "metadata": {}
              },
              {
                "output_type": "display_data",
                "data": {
                  "text/plain": "<IPython.core.display.HTML object>",
                  "text/html": "\n                <div style=\"background: #f5f6fa; border-left: 4px solid #6f42c1; padding:12px; margin-bottom:10px; border-radius:8px;\">\n                  <span style=\"color:#0d6efd; font-weight:bold;\">7.</span>\n                  <span style=\"color:#222; font-size:1.08em; font-weight:bold;\">Ingresso para o Thermas - Thermas de São Pedro</span><br>\n                  <a href=\"https://news.google.com/rss/articles/CBMiS0FVX3lxTE8yNFJselFwZ3N1bENPWWtCQjVvaGZFV2h6R3JwMUFpMmxtX1hOY0FTMnB4dGgteUJHVFV3RFBaaWNwOWo1MDlOazlVOA?oc=5\" target=\"_blank\" style=\"color:#6f42c1; text-decoration:underline;\">Acessar notícia</a>\n                </div>\n                "
                },
                "metadata": {}
              },
              {
                "output_type": "display_data",
                "data": {
                  "text/plain": "<IPython.core.display.HTML object>",
                  "text/html": "\n                <div style=\"background: #f5f6fa; border-left: 4px solid #6f42c1; padding:12px; margin-bottom:10px; border-radius:8px;\">\n                  <span style=\"color:#0d6efd; font-weight:bold;\">8.</span>\n                  <span style=\"color:#222; font-size:1.08em; font-weight:bold;\">Terra Parque Eco Resort - O resort fazenda mais buscado do Brasil - terraparque.tur.br</span><br>\n                  <a href=\"https://news.google.com/rss/articles/CBMiQEFVX3lxTE5HT0hnbHU1eVRHa1QwVld3OWdpWlZsV3E4SE5GX2pQaU0zTWtLdkgzRGg1LUU1Nnh5M0t5eUk4T3c?oc=5\" target=\"_blank\" style=\"color:#6f42c1; text-decoration:underline;\">Acessar notícia</a>\n                </div>\n                "
                },
                "metadata": {}
              },
              {
                "output_type": "display_data",
                "data": {
                  "text/plain": "<IPython.core.display.HTML object>",
                  "text/html": "\n                <div style=\"background: #f5f6fa; border-left: 4px solid #6f42c1; padding:12px; margin-bottom:10px; border-radius:8px;\">\n                  <span style=\"color:#0d6efd; font-weight:bold;\">9.</span>\n                  <span style=\"color:#222; font-size:1.08em; font-weight:bold;\">Olímpia autoriza cassinos e reacende guerra com vizinho por aeroporto próprio - Folha de S.Paulo</span><br>\n                  <a href=\"https://news.google.com/rss/articles/CBMi1AFBVV95cUxNZ1RUS21SVk1xVGJQVldkYWZUcEFjX3EtTTdEbVJVcmNVbjBiUVlFc3RBVGZ3eFYyZzlyNUtFZ0xXdEdreWxEUWpkVDVpSTRFdW05cmJTTjhWZXlWX0dTWFZTeWVDamFGU2FJcFFzZUJkUl9WeWp1ZDJFVmNxcl83VWstY0hhQUhKeTNtTWRhc2gtbzhXLVBFX2g4UEFDMU9xN1N0ODRuVVB1ZnU2WTYteV9zN0xJQ19aVGdoRTUzSU1LNVV3X2NCSWNZSnFOLVFYZTJ1ctIB2gFBVV95cUxQNHJkMm9iVFQ4b3pvMTltbGVaX1ZYV1JDZGhRSjBDYjJsQWhxeS1tTkJvSjdYUy1ZeHVxMVNmdmZSZDljN244dDNNT084RVBrWVN6RWI5UEg3NnVUbkpaRHVYN2dqWU0yblRVTkpJMEppT0lDTFZ0UXlQUnZLVVU3QWNtUzYyTXZ4R2trWDc2WHhyNUYyck10eHN2LUR1dVV5WVM1cXd6OXVjRGQxLXRIcm1KbG9jTGlMNG5aLVBVYldYM1UzdkprYnE0LVZzd3J2VEt4MDlnQ0pXQQ?oc=5\" target=\"_blank\" style=\"color:#6f42c1; text-decoration:underline;\">Acessar notícia</a>\n                </div>\n                "
                },
                "metadata": {}
              },
              {
                "output_type": "display_data",
                "data": {
                  "text/plain": "<IPython.core.display.HTML object>",
                  "text/html": "\n                <div style=\"background: #f5f6fa; border-left: 4px solid #6f42c1; padding:12px; margin-bottom:10px; border-radius:8px;\">\n                  <span style=\"color:#0d6efd; font-weight:bold;\">10.</span>\n                  <span style=\"color:#222; font-size:1.08em; font-weight:bold;\">Home | WAM Hotéis - WAM Hotéis</span><br>\n                  <a href=\"https://news.google.com/rss/articles/CBMiPkFVX3lxTE5fVXRDY2hKRVlhSkZyVXBoRUNxMWpYQjZtNHdNYmVSR3FNclZpQVpERVBXWmNPSFNoZnpNOWJn?oc=5\" target=\"_blank\" style=\"color:#6f42c1; text-decoration:underline;\">Acessar notícia</a>\n                </div>\n                "
                },
                "metadata": {}
              },
              {
                "output_type": "display_data",
                "data": {
                  "text/plain": "<IPython.core.display.HTML object>",
                  "text/html": "\n                <div style=\"background: #f5f6fa; border-left: 4px solid #6f42c1; padding:12px; margin-bottom:10px; border-radius:8px;\">\n                  <span style=\"color:#0d6efd; font-weight:bold;\">11.</span>\n                  <span style=\"color:#222; font-size:1.08em; font-weight:bold;\">ICA/UFMG promove 26 atividades gratuitas no 'Domingo no Campus'</span><br>\n                  <a href=\"https://g1.globo.com/mg/grande-minas/noticia/2025/05/17/icaufmg-promove-26-atividades-gratuitas-no-domingo-no-campus.ghtml\" target=\"_blank\" style=\"color:#6f42c1; text-decoration:underline;\">Acessar notícia</a>\n                </div>\n                "
                },
                "metadata": {}
              }
            ]
          }
        },
        "cb624016199e4a6eb9b0a6fbffe2d22a": {
          "model_module": "@jupyter-widgets/base",
          "model_name": "LayoutModel",
          "model_module_version": "1.2.0",
          "state": {
            "_model_module": "@jupyter-widgets/base",
            "_model_module_version": "1.2.0",
            "_model_name": "LayoutModel",
            "_view_count": null,
            "_view_module": "@jupyter-widgets/base",
            "_view_module_version": "1.2.0",
            "_view_name": "LayoutView",
            "align_content": null,
            "align_items": null,
            "align_self": null,
            "border": null,
            "bottom": null,
            "display": null,
            "flex": null,
            "flex_flow": null,
            "grid_area": null,
            "grid_auto_columns": null,
            "grid_auto_flow": null,
            "grid_auto_rows": null,
            "grid_column": null,
            "grid_gap": null,
            "grid_row": null,
            "grid_template_areas": null,
            "grid_template_columns": null,
            "grid_template_rows": null,
            "height": null,
            "justify_content": null,
            "justify_items": null,
            "left": null,
            "margin": null,
            "max_height": null,
            "max_width": null,
            "min_height": null,
            "min_width": null,
            "object_fit": null,
            "object_position": null,
            "order": null,
            "overflow": null,
            "overflow_x": null,
            "overflow_y": null,
            "padding": null,
            "right": null,
            "top": null,
            "visibility": null,
            "width": null
          }
        },
        "641d2abce7594c3e889289f6950e8999": {
          "model_module": "@jupyter-widgets/controls",
          "model_name": "ButtonModel",
          "model_module_version": "1.5.0",
          "state": {
            "_dom_classes": [],
            "_model_module": "@jupyter-widgets/controls",
            "_model_module_version": "1.5.0",
            "_model_name": "ButtonModel",
            "_view_count": null,
            "_view_module": "@jupyter-widgets/controls",
            "_view_module_version": "1.5.0",
            "_view_name": "ButtonView",
            "button_style": "",
            "description": "Gerar Resumo com IA",
            "disabled": false,
            "icon": "",
            "layout": "IPY_MODEL_380ea5a06bde4f11b6957f31b6d5b579",
            "style": "IPY_MODEL_58b8237d9a6d458085ec502b759848b9",
            "tooltip": ""
          }
        },
        "380ea5a06bde4f11b6957f31b6d5b579": {
          "model_module": "@jupyter-widgets/base",
          "model_name": "LayoutModel",
          "model_module_version": "1.2.0",
          "state": {
            "_model_module": "@jupyter-widgets/base",
            "_model_module_version": "1.2.0",
            "_model_name": "LayoutModel",
            "_view_count": null,
            "_view_module": "@jupyter-widgets/base",
            "_view_module_version": "1.2.0",
            "_view_name": "LayoutView",
            "align_content": null,
            "align_items": null,
            "align_self": null,
            "border": null,
            "bottom": null,
            "display": null,
            "flex": null,
            "flex_flow": null,
            "grid_area": null,
            "grid_auto_columns": null,
            "grid_auto_flow": null,
            "grid_auto_rows": null,
            "grid_column": null,
            "grid_gap": null,
            "grid_row": null,
            "grid_template_areas": null,
            "grid_template_columns": null,
            "grid_template_rows": null,
            "height": null,
            "justify_content": null,
            "justify_items": null,
            "left": null,
            "margin": null,
            "max_height": null,
            "max_width": null,
            "min_height": null,
            "min_width": null,
            "object_fit": null,
            "object_position": null,
            "order": null,
            "overflow": null,
            "overflow_x": null,
            "overflow_y": null,
            "padding": null,
            "right": null,
            "top": null,
            "visibility": null,
            "width": "400px"
          }
        },
        "58b8237d9a6d458085ec502b759848b9": {
          "model_module": "@jupyter-widgets/controls",
          "model_name": "ButtonStyleModel",
          "model_module_version": "1.5.0",
          "state": {
            "_model_module": "@jupyter-widgets/controls",
            "_model_module_version": "1.5.0",
            "_model_name": "ButtonStyleModel",
            "_view_count": null,
            "_view_module": "@jupyter-widgets/base",
            "_view_module_version": "1.2.0",
            "_view_name": "StyleView",
            "button_color": "#6f42c1",
            "font_weight": "bold"
          }
        },
        "68b969dd32dc4cbe95376088a416020e": {
          "model_module": "@jupyter-widgets/output",
          "model_name": "OutputModel",
          "model_module_version": "1.0.0",
          "state": {
            "_dom_classes": [],
            "_model_module": "@jupyter-widgets/output",
            "_model_module_version": "1.0.0",
            "_model_name": "OutputModel",
            "_view_count": null,
            "_view_module": "@jupyter-widgets/output",
            "_view_module_version": "1.0.0",
            "_view_name": "OutputView",
            "layout": "IPY_MODEL_f94740c30a0e4262af9e35a593393e7c",
            "msg_id": "",
            "outputs": [
              {
                "output_type": "display_data",
                "data": {
                  "text/plain": "<IPython.core.display.HTML object>",
                  "text/html": "<div style=\"color:#fff; background:#0d6efd; padding:8px; border-radius:6px; margin-bottom:10px;\">Gerando resumo com IA... Aguarde alguns segundos.</div>"
                },
                "metadata": {}
              },
              {
                "output_type": "display_data",
                "data": {
                  "text/plain": "<IPython.core.display.HTML object>",
                  "text/html": "\n            <div style=\"background: #f5f6fa; border-left: 4px solid #6f42c1; padding:14px; margin-bottom:10px; border-radius:8px;\">\n              <span style=\"color:#6f42c1; font-weight:bold; font-size:1.15em;\">Resumo Gerado:</span><br>\n              <pre style=\"white-space: pre-wrap; color:#222; font-size:1.05em; background:none; border:none; margin:0;\">Aqui estão os principais pontos das notícias, resumidos e focados no cliente:\n\n*   **Thermas de São Pedro (SP) e Hot Park (Rio Quente) oferecem diversão o ano todo:** Ótima opção para famílias e turistas que buscam lazer e entretenimento em parques aquáticos, independentemente da estação.\n\n*   **Acquathermas Operadora de Turismo:** Facilita o planejamento da sua viagem para parques aquáticos, oferecendo pacotes e informações sobre diversos destinos.\n\n*   **Resorts de Olímpia:** Apresenta uma alternativa de hospedagem com conforto e lazer para quem visita os parques aquáticos da região.\n\n*   **São Paulo promove atrações turísticas em evento:** Indica que o estado está investindo em melhorar e divulgar seus parques e atrações, o que pode resultar em novidades e melhores experiências para o cliente.\n</pre>\n            </div>\n            "
                },
                "metadata": {}
              }
            ]
          }
        },
        "f94740c30a0e4262af9e35a593393e7c": {
          "model_module": "@jupyter-widgets/base",
          "model_name": "LayoutModel",
          "model_module_version": "1.2.0",
          "state": {
            "_model_module": "@jupyter-widgets/base",
            "_model_module_version": "1.2.0",
            "_model_name": "LayoutModel",
            "_view_count": null,
            "_view_module": "@jupyter-widgets/base",
            "_view_module_version": "1.2.0",
            "_view_name": "LayoutView",
            "align_content": null,
            "align_items": null,
            "align_self": null,
            "border": null,
            "bottom": null,
            "display": null,
            "flex": null,
            "flex_flow": null,
            "grid_area": null,
            "grid_auto_columns": null,
            "grid_auto_flow": null,
            "grid_auto_rows": null,
            "grid_column": null,
            "grid_gap": null,
            "grid_row": null,
            "grid_template_areas": null,
            "grid_template_columns": null,
            "grid_template_rows": null,
            "height": null,
            "justify_content": null,
            "justify_items": null,
            "left": null,
            "margin": null,
            "max_height": null,
            "max_width": null,
            "min_height": null,
            "min_width": null,
            "object_fit": null,
            "object_position": null,
            "order": null,
            "overflow": null,
            "overflow_x": null,
            "overflow_y": null,
            "padding": null,
            "right": null,
            "top": null,
            "visibility": null,
            "width": null
          }
        },
        "d7b33002bbfc4e379558bea86de3437c": {
          "model_module": "@jupyter-widgets/controls",
          "model_name": "ButtonModel",
          "model_module_version": "1.5.0",
          "state": {
            "_dom_classes": [],
            "_model_module": "@jupyter-widgets/controls",
            "_model_module_version": "1.5.0",
            "_model_name": "ButtonModel",
            "_view_count": null,
            "_view_module": "@jupyter-widgets/controls",
            "_view_module_version": "1.5.0",
            "_view_name": "ButtonView",
            "button_style": "",
            "description": "Classificar Notícias",
            "disabled": false,
            "icon": "",
            "layout": "IPY_MODEL_4350d11eea6a4f43a2ee6b6474308327",
            "style": "IPY_MODEL_decd9aabae874b668f6fbab89609c64f",
            "tooltip": ""
          }
        },
        "4350d11eea6a4f43a2ee6b6474308327": {
          "model_module": "@jupyter-widgets/base",
          "model_name": "LayoutModel",
          "model_module_version": "1.2.0",
          "state": {
            "_model_module": "@jupyter-widgets/base",
            "_model_module_version": "1.2.0",
            "_model_name": "LayoutModel",
            "_view_count": null,
            "_view_module": "@jupyter-widgets/base",
            "_view_module_version": "1.2.0",
            "_view_name": "LayoutView",
            "align_content": null,
            "align_items": null,
            "align_self": null,
            "border": null,
            "bottom": null,
            "display": null,
            "flex": null,
            "flex_flow": null,
            "grid_area": null,
            "grid_auto_columns": null,
            "grid_auto_flow": null,
            "grid_auto_rows": null,
            "grid_column": null,
            "grid_gap": null,
            "grid_row": null,
            "grid_template_areas": null,
            "grid_template_columns": null,
            "grid_template_rows": null,
            "height": null,
            "justify_content": null,
            "justify_items": null,
            "left": null,
            "margin": null,
            "max_height": null,
            "max_width": null,
            "min_height": null,
            "min_width": null,
            "object_fit": null,
            "object_position": null,
            "order": null,
            "overflow": null,
            "overflow_x": null,
            "overflow_y": null,
            "padding": null,
            "right": null,
            "top": null,
            "visibility": null,
            "width": "400px"
          }
        },
        "decd9aabae874b668f6fbab89609c64f": {
          "model_module": "@jupyter-widgets/controls",
          "model_name": "ButtonStyleModel",
          "model_module_version": "1.5.0",
          "state": {
            "_model_module": "@jupyter-widgets/controls",
            "_model_module_version": "1.5.0",
            "_model_name": "ButtonStyleModel",
            "_view_count": null,
            "_view_module": "@jupyter-widgets/base",
            "_view_module_version": "1.2.0",
            "_view_name": "StyleView",
            "button_color": "#ffc107",
            "font_weight": "bold"
          }
        },
        "9f4f5cf3d90044d69042106b97b72ad9": {
          "model_module": "@jupyter-widgets/output",
          "model_name": "OutputModel",
          "model_module_version": "1.0.0",
          "state": {
            "_dom_classes": [],
            "_model_module": "@jupyter-widgets/output",
            "_model_module_version": "1.0.0",
            "_model_name": "OutputModel",
            "_view_count": null,
            "_view_module": "@jupyter-widgets/output",
            "_view_module_version": "1.0.0",
            "_view_name": "OutputView",
            "layout": "IPY_MODEL_af20c4715c9d47c48aaa182bb3efefdb",
            "msg_id": "",
            "outputs": [
              {
                "output_type": "display_data",
                "data": {
                  "text/plain": "<IPython.core.display.HTML object>",
                  "text/html": "<div style=\"color:#fff; background:#ffc107; padding:8px; border-radius:6px; margin-bottom:10px;\">Classificando as notícias... Aguarde.</div>"
                },
                "metadata": {}
              },
              {
                "output_type": "display_data",
                "data": {
                  "text/plain": "<IPython.core.display.HTML object>",
                  "text/html": "\n                <div style=\"background: #e9ecef; border-left: 4px solid #ffc107; padding:14px; margin-bottom:10px; border-radius:8px;\">\n                  <span style=\"color:#ffc107; font-weight:bold; font-size:1.15em;\">Classificação das Notícias:</span><br>\n                  <pre style=\"white-space: pre-wrap; color:#333; font-size:1.05em; background:none; border:none; margin:0;\"><b>Notícia:</b> Thermas de São Pedro (SP) e Hot Park (Rio Quente) oferecem diversão o ano todo<br><b>Sentimento:</b> Positiva<br><b>Motivo:</b> Oferece opções de lazer e entretenimento para famílias e turistas.<br><hr><b>Notícia:</b> Acquathermas Operadora de Turismo<br><b>Sentimento:</b> Positiva<br><b>Motivo:</b> Facilita o planejamento de viagens para parques aquáticos.<br><hr><b>Notícia:</b> Resorts de Olímpia<br><b>Sentimento:</b> Positiva<br><b>Motivo:</b> Apresenta opções de hospedagem confortáveis e com lazer para visitantes.<br><hr><b>Notícia:</b> São Paulo promove atrações turísticas em evento<br><b>Sentimento:</b> Positiva<br><b>Motivo:</b> Sugere melhorias e novidades nas atrações turísticas do estado.<br><hr></pre>\n                </div>\n                "
                },
                "metadata": {}
              },
              {
                "output_type": "display_data",
                "data": {
                  "text/plain": "<Figure size 600x400 with 1 Axes>",
                  "image/png": "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\n"
                },
                "metadata": {}
              }
            ]
          }
        },
        "af20c4715c9d47c48aaa182bb3efefdb": {
          "model_module": "@jupyter-widgets/base",
          "model_name": "LayoutModel",
          "model_module_version": "1.2.0",
          "state": {
            "_model_module": "@jupyter-widgets/base",
            "_model_module_version": "1.2.0",
            "_model_name": "LayoutModel",
            "_view_count": null,
            "_view_module": "@jupyter-widgets/base",
            "_view_module_version": "1.2.0",
            "_view_name": "LayoutView",
            "align_content": null,
            "align_items": null,
            "align_self": null,
            "border": null,
            "bottom": null,
            "display": null,
            "flex": null,
            "flex_flow": null,
            "grid_area": null,
            "grid_auto_columns": null,
            "grid_auto_flow": null,
            "grid_auto_rows": null,
            "grid_column": null,
            "grid_gap": null,
            "grid_row": null,
            "grid_template_areas": null,
            "grid_template_columns": null,
            "grid_template_rows": null,
            "height": null,
            "justify_content": null,
            "justify_items": null,
            "left": null,
            "margin": null,
            "max_height": null,
            "max_width": null,
            "min_height": null,
            "min_width": null,
            "object_fit": null,
            "object_position": null,
            "order": null,
            "overflow": null,
            "overflow_x": null,
            "overflow_y": null,
            "padding": null,
            "right": null,
            "top": null,
            "visibility": null,
            "width": null
          }
        },
        "f7ae0874d9fe4559a6b50a6f348a3328": {
          "model_module": "@jupyter-widgets/controls",
          "model_name": "ButtonModel",
          "model_module_version": "1.5.0",
          "state": {
            "_dom_classes": [],
            "_model_module": "@jupyter-widgets/controls",
            "_model_module_version": "1.5.0",
            "_model_name": "ButtonModel",
            "_view_count": null,
            "_view_module": "@jupyter-widgets/controls",
            "_view_module_version": "1.5.0",
            "_view_name": "ButtonView",
            "button_style": "",
            "description": "Gerar Dicas de Reputação",
            "disabled": false,
            "icon": "",
            "layout": "IPY_MODEL_ae99a6132d684abeb608815308d56c48",
            "style": "IPY_MODEL_389b07d960734a5aab2f083bdcb1086d",
            "tooltip": ""
          }
        },
        "ae99a6132d684abeb608815308d56c48": {
          "model_module": "@jupyter-widgets/base",
          "model_name": "LayoutModel",
          "model_module_version": "1.2.0",
          "state": {
            "_model_module": "@jupyter-widgets/base",
            "_model_module_version": "1.2.0",
            "_model_name": "LayoutModel",
            "_view_count": null,
            "_view_module": "@jupyter-widgets/base",
            "_view_module_version": "1.2.0",
            "_view_name": "LayoutView",
            "align_content": null,
            "align_items": null,
            "align_self": null,
            "border": null,
            "bottom": null,
            "display": null,
            "flex": null,
            "flex_flow": null,
            "grid_area": null,
            "grid_auto_columns": null,
            "grid_auto_flow": null,
            "grid_auto_rows": null,
            "grid_column": null,
            "grid_gap": null,
            "grid_row": null,
            "grid_template_areas": null,
            "grid_template_columns": null,
            "grid_template_rows": null,
            "height": null,
            "justify_content": null,
            "justify_items": null,
            "left": null,
            "margin": null,
            "max_height": null,
            "max_width": null,
            "min_height": null,
            "min_width": null,
            "object_fit": null,
            "object_position": null,
            "order": null,
            "overflow": null,
            "overflow_x": null,
            "overflow_y": null,
            "padding": null,
            "right": null,
            "top": null,
            "visibility": null,
            "width": "400px"
          }
        },
        "389b07d960734a5aab2f083bdcb1086d": {
          "model_module": "@jupyter-widgets/controls",
          "model_name": "ButtonStyleModel",
          "model_module_version": "1.5.0",
          "state": {
            "_model_module": "@jupyter-widgets/controls",
            "_model_module_version": "1.5.0",
            "_model_name": "ButtonStyleModel",
            "_view_count": null,
            "_view_module": "@jupyter-widgets/base",
            "_view_module_version": "1.2.0",
            "_view_name": "StyleView",
            "button_color": "#28a745",
            "font_weight": "bold"
          }
        },
        "b72d1e419a594c808d40a34186deaa17": {
          "model_module": "@jupyter-widgets/output",
          "model_name": "OutputModel",
          "model_module_version": "1.0.0",
          "state": {
            "_dom_classes": [],
            "_model_module": "@jupyter-widgets/output",
            "_model_module_version": "1.0.0",
            "_model_name": "OutputModel",
            "_view_count": null,
            "_view_module": "@jupyter-widgets/output",
            "_view_module_version": "1.0.0",
            "_view_name": "OutputView",
            "layout": "IPY_MODEL_781077b041c1436592c9efb6fac0ac61",
            "msg_id": "",
            "outputs": [
              {
                "output_type": "display_data",
                "data": {
                  "text/plain": "<IPython.core.display.HTML object>",
                  "text/html": "<div style=\"color:#fff; background:#28a745; padding:8px; border-radius:6px; margin-bottom:10px;\">Gerando dicas de reputação... Aguarde.</div>"
                },
                "metadata": {}
              },
              {
                "output_type": "display_data",
                "data": {
                  "text/plain": "<IPython.core.display.HTML object>",
                  "text/html": "\n                <div style=\"background: #e9ecef; border-left: 4px solid #28a745; padding:14px; margin-bottom:10px; border-radius:8px;\">\n                  <span style=\"color:#28a745; font-weight:bold; font-size:1.15em;\">Dicas de Reputação:</span><br>\n                  <b>Notícia:</b> Thermas de São Pedro (SP) e Hot Park (Rio Quente) oferecem diversão o ano todo<br><b>Sentimento:</b> Positiva<br><span style='color:#28a745; font-weight:bold;'>Dicas:</span><br><pre style='white-space: pre-wrap; color:#333; font-size:1.05em; background:none; border:none; margin-left:10px;'>Considerando a notícia positiva sobre Thermas de São Pedro e Hot Park, aqui estão dicas de assessoria de imprensa focadas na ação:\n\n*   **Amplifique a cobertura existente:**\n    *   **Compartilhe** a notícia em todos os canais de comunicação (redes sociais, site, newsletter).\n    *   **Incentive** o compartilhamento entre funcionários, parceiros e influenciadores.\n    *   **Monitore** e responda aos comentários positivos online.\n\n*   **Aproveite a onda positiva para novas oportunidades:**\n    *   **Elabore** um press release com dados de ocupação, novidades e promoções para a baixa temporada.\n    *   **Ofereça** entrevistas com porta-vozes para aprofundar temas como turismo familiar e impactos econômicos.\n    *   **Crie** kits de imprensa digitais com fotos e vídeos de alta qualidade para facilitar o trabalho dos jornalistas.\n\n*   **Reforce a mensagem principal:**\n    *   **Crie** conteúdos adicionais destacando o conceito de \"diversão o ano todo\".\n    *   **Realize** ações de marketing de conteúdo, como posts de blog e vídeos, com dicas para aproveitar os parques em diferentes estações.\n    *   **Promova** eventos especiais e temáticos ao longo do ano para manter o interesse da mídia e do público.\n</pre><hr><b>Notícia:</b> Acquathermas Operadora de Turismo<br><b>Sentimento:</b> Positiva<br><span style='color:#28a745; font-weight:bold;'>Dicas:</span><br><pre style='white-space: pre-wrap; color:#333; font-size:1.05em; background:none; border:none; margin-left:10px;'>Considerando a notícia da Acquathermas Operadora de Turismo, com sentimento positivo por facilitar o planejamento de viagens para parques aquáticos, aqui estão algumas dicas de assessoria de imprensa:\n\n*   **Amplie o Alcance:**\n    *   • **Destaque a facilidade:** Publique um comunicado de imprensa enfatizando como a Acquathermas simplifica o planejamento de viagens, economizando tempo e esforço dos clientes.\n    *   • **Compartilhe cases de sucesso:** Apresente depoimentos de clientes satisfeitos com o planejamento facilitado e a experiência positiva.\n\n*   **Reforce a Liderança no Segmento:**\n    *   • **Disponibilize dados e estatísticas:** Ofereça informações sobre o crescimento do mercado de parques aquáticos e como a Acquathermas está posicionada para atender a essa demanda.\n    *   • **Promova a expertise:** Posicione a Acquathermas como especialista em viagens para parques aquáticos, oferecendo dicas e guias exclusivos.\n\n*   **Explore Novos Canais:**\n    *   • **Engaje influenciadores:** Envie viagens de cortesia para influenciadores de viagem visitarem os parques aquáticos e compartilharem suas experiências com seus seguidores.\n    *   • **Crie conteúdo visual:** Desenvolva vídeos e fotos de alta qualidade mostrando os parques aquáticos e a facilidade de planejar a viagem com a Acquathermas.\n\n*   **Monitore e Responda:**\n    *   • **Acompanhe a repercussão:** Monitore as menções da Acquathermas na mídia e nas redes sociais para responder a perguntas e comentários.\n    *   • **Mensure os resultados:** Avalie o impacto das ações de assessoria de imprensa no reconhecimento da marca e no aumento das vendas.\n</pre><hr><b>Notícia:</b> Resorts de Olímpia<br><b>Sentimento:</b> Positiva<br><span style='color:#28a745; font-weight:bold;'>Dicas:</span><br><pre style='white-space: pre-wrap; color:#333; font-size:1.05em; background:none; border:none; margin-left:10px;'>Considerando a notícia positiva sobre os Resorts de Olímpia, aqui estão algumas dicas de assessoria de imprensa para capitalizar este bom momento:\n\n*   **Maximize a Visibilidade:**\n    *   • **Amplie a distribuição do release:** Envie para veículos de turismo regionais e nacionais, influenciadores de viagem e blogs especializados.\n    *   • **Compartilhe nas redes sociais:** Use hashtags relevantes (#olimpia #resorts #turismo #ferias, etc.) e marque influenciadores/parceiros.\n    *   • **Crie conteúdo visual:** Produza fotos e vídeos de alta qualidade dos resorts destacando o lazer e o conforto.\n\n*   **Reforce os Atributos Positivos:**\n    *   • **Ofereça entrevistas:** Disponibilize porta-vozes para comentar sobre a experiência de hospedagem e os diferenciais dos resorts.\n    *   • **Crie press kits:** Inclua informações detalhadas sobre os resorts, fotos de alta resolução e depoimentos de hóspedes satisfeitos.\n    *   • **Desenvolva pautas relacionadas:** Sugira reportagens sobre famílias que aproveitam as férias nos resorts, casais em lua de mel, etc.\n\n*   **Mantenha o Engajamento:**\n    *   • **Monitore a repercussão:** Acompanhe as menções da marca nas redes sociais e na mídia para responder a comentários e identificar oportunidades.\n    *   • **Promova concursos e sorteios:** Aumente o engajamento e gere buzz sobre os resorts.\n    *   • **Mantenha contato regular com a imprensa:** Construa relacionamentos duradouros com jornalistas e influenciadores.\n</pre><hr><b>Notícia:</b> São Paulo promove atrações turísticas em evento<br><b>Sentimento:</b> Positiva<br><span style='color:#28a745; font-weight:bold;'>Dicas:</span><br><pre style='white-space: pre-wrap; color:#333; font-size:1.05em; background:none; border:none; margin-left:10px;'>Considerando a notícia \"São Paulo promove atrações turísticas em evento\" e seu sentimento positivo, aqui estão dicas de assessoria de imprensa:\n\n*   **Amplifique a mensagem:**\n    *   Dissemine releases e press kits detalhados para a mídia especializada em turismo e veículos de comunicação em geral.\n    *   Distribua o material para influenciadores digitais de turismo e viagem.\n*   **Capitalize no sentimento positivo:**\n    *   Enfatize os benefícios e novidades apresentados no evento.\n    *   Destaque o impacto econômico e social positivo do turismo para São Paulo.\n*   **Fortaleça o relacionamento com a mídia:**\n    *   Convide jornalistas e influenciadores para visitar as atrações turísticas promovidas.\n    *   Ofereça entrevistas exclusivas com representantes do governo e do setor turístico.\n*   **Monitore e responda à cobertura:**\n    *   Acompanhe a repercussão da notícia e do evento na mídia e nas redes sociais.\n    *   Responda a comentários e dúvidas do público, reforçando a mensagem positiva.\n*   **Produza conteúdo complementar:**\n    *   Crie vídeos e fotos de alta qualidade das atrações turísticas.\n    *   Elabore materiais informativos e guias de viagem para download.\n*   **Mensure os resultados:**\n    *   Monitore o alcance da notícia e o engajamento do público.\n    *   Avalie o retorno sobre o investimento (ROI) das ações de assessoria de imprensa.\n</pre><hr>\n                </div>\n                "
                },
                "metadata": {}
              }
            ]
          }
        },
        "781077b041c1436592c9efb6fac0ac61": {
          "model_module": "@jupyter-widgets/base",
          "model_name": "LayoutModel",
          "model_module_version": "1.2.0",
          "state": {
            "_model_module": "@jupyter-widgets/base",
            "_model_module_version": "1.2.0",
            "_model_name": "LayoutModel",
            "_view_count": null,
            "_view_module": "@jupyter-widgets/base",
            "_view_module_version": "1.2.0",
            "_view_name": "LayoutView",
            "align_content": null,
            "align_items": null,
            "align_self": null,
            "border": null,
            "bottom": null,
            "display": null,
            "flex": null,
            "flex_flow": null,
            "grid_area": null,
            "grid_auto_columns": null,
            "grid_auto_flow": null,
            "grid_auto_rows": null,
            "grid_column": null,
            "grid_gap": null,
            "grid_row": null,
            "grid_template_areas": null,
            "grid_template_columns": null,
            "grid_template_rows": null,
            "height": null,
            "justify_content": null,
            "justify_items": null,
            "left": null,
            "margin": null,
            "max_height": null,
            "max_width": null,
            "min_height": null,
            "min_width": null,
            "object_fit": null,
            "object_position": null,
            "order": null,
            "overflow": null,
            "overflow_x": null,
            "overflow_y": null,
            "padding": null,
            "right": null,
            "top": null,
            "visibility": null,
            "width": null
          }
        },
        "e1ee6915ae074a24835299f2c92e89ef": {
          "model_module": "@jupyter-widgets/controls",
          "model_name": "ButtonModel",
          "model_module_version": "1.5.0",
          "state": {
            "_dom_classes": [],
            "_model_module": "@jupyter-widgets/controls",
            "_model_module_version": "1.5.0",
            "_model_name": "ButtonModel",
            "_view_count": null,
            "_view_module": "@jupyter-widgets/controls",
            "_view_module_version": "1.5.0",
            "_view_name": "ButtonView",
            "button_style": "",
            "description": "Gerar Relatório PDF",
            "disabled": false,
            "icon": "",
            "layout": "IPY_MODEL_9854660c3768484c8343b9f6c768d912",
            "style": "IPY_MODEL_f047cd83f4954206ab104131ec46e997",
            "tooltip": ""
          }
        },
        "9854660c3768484c8343b9f6c768d912": {
          "model_module": "@jupyter-widgets/base",
          "model_name": "LayoutModel",
          "model_module_version": "1.2.0",
          "state": {
            "_model_module": "@jupyter-widgets/base",
            "_model_module_version": "1.2.0",
            "_model_name": "LayoutModel",
            "_view_count": null,
            "_view_module": "@jupyter-widgets/base",
            "_view_module_version": "1.2.0",
            "_view_name": "LayoutView",
            "align_content": null,
            "align_items": null,
            "align_self": null,
            "border": null,
            "bottom": null,
            "display": null,
            "flex": null,
            "flex_flow": null,
            "grid_area": null,
            "grid_auto_columns": null,
            "grid_auto_flow": null,
            "grid_auto_rows": null,
            "grid_column": null,
            "grid_gap": null,
            "grid_row": null,
            "grid_template_areas": null,
            "grid_template_columns": null,
            "grid_template_rows": null,
            "height": null,
            "justify_content": null,
            "justify_items": null,
            "left": null,
            "margin": null,
            "max_height": null,
            "max_width": null,
            "min_height": null,
            "min_width": null,
            "object_fit": null,
            "object_position": null,
            "order": null,
            "overflow": null,
            "overflow_x": null,
            "overflow_y": null,
            "padding": null,
            "right": null,
            "top": null,
            "visibility": null,
            "width": "400px"
          }
        },
        "f047cd83f4954206ab104131ec46e997": {
          "model_module": "@jupyter-widgets/controls",
          "model_name": "ButtonStyleModel",
          "model_module_version": "1.5.0",
          "state": {
            "_model_module": "@jupyter-widgets/controls",
            "_model_module_version": "1.5.0",
            "_model_name": "ButtonStyleModel",
            "_view_count": null,
            "_view_module": "@jupyter-widgets/base",
            "_view_module_version": "1.2.0",
            "_view_name": "StyleView",
            "button_color": "#dc3545",
            "font_weight": "bold"
          }
        },
        "8431763a21b745b88c87caa4c1e0a13b": {
          "model_module": "@jupyter-widgets/output",
          "model_name": "OutputModel",
          "model_module_version": "1.0.0",
          "state": {
            "_dom_classes": [],
            "_model_module": "@jupyter-widgets/output",
            "_model_module_version": "1.0.0",
            "_model_name": "OutputModel",
            "_view_count": null,
            "_view_module": "@jupyter-widgets/output",
            "_view_module_version": "1.0.0",
            "_view_name": "OutputView",
            "layout": "IPY_MODEL_9a1e4a5c78d14e9fb7ff1cd1365dcc0f",
            "msg_id": "",
            "outputs": [
              {
                "output_type": "display_data",
                "data": {
                  "text/plain": "<IPython.core.display.Javascript object>",
                  "application/javascript": "\n    async function download(id, filename, size) {\n      if (!google.colab.kernel.accessAllowed) {\n        return;\n      }\n      const div = document.createElement('div');\n      const label = document.createElement('label');\n      label.textContent = `Downloading \"${filename}\": `;\n      div.appendChild(label);\n      const progress = document.createElement('progress');\n      progress.max = size;\n      div.appendChild(progress);\n      document.body.appendChild(div);\n\n      const buffers = [];\n      let downloaded = 0;\n\n      const channel = await google.colab.kernel.comms.open(id);\n      // Send a message to notify the kernel that we're ready.\n      channel.send({})\n\n      for await (const message of channel.messages) {\n        // Send a message to notify the kernel that we're ready.\n        channel.send({})\n        if (message.buffers) {\n          for (const buffer of message.buffers) {\n            buffers.push(buffer);\n            downloaded += buffer.byteLength;\n            progress.value = downloaded;\n          }\n        }\n      }\n      const blob = new Blob(buffers, {type: 'application/binary'});\n      const a = document.createElement('a');\n      a.href = window.URL.createObjectURL(blob);\n      a.download = filename;\n      div.appendChild(a);\n      a.click();\n      div.remove();\n    }\n  "
                },
                "metadata": {}
              },
              {
                "output_type": "display_data",
                "data": {
                  "text/plain": "<IPython.core.display.Javascript object>",
                  "application/javascript": "download(\"download_d5b931db-c549-42f5-9819-a2bda6f8b03b\", \"relatorio_clipping.pdf\", 25243)"
                },
                "metadata": {}
              },
              {
                "output_type": "display_data",
                "data": {
                  "text/plain": "<IPython.core.display.HTML object>",
                  "text/html": "<div style=\"color:#fff; background:#28a745; padding:14px; border-radius:8px; font-size:1.09em;\">Relatório PDF gerado com sucesso e pronto para download!</div>"
                },
                "metadata": {}
              }
            ]
          }
        },
        "9a1e4a5c78d14e9fb7ff1cd1365dcc0f": {
          "model_module": "@jupyter-widgets/base",
          "model_name": "LayoutModel",
          "model_module_version": "1.2.0",
          "state": {
            "_model_module": "@jupyter-widgets/base",
            "_model_module_version": "1.2.0",
            "_model_name": "LayoutModel",
            "_view_count": null,
            "_view_module": "@jupyter-widgets/base",
            "_view_module_version": "1.2.0",
            "_view_name": "LayoutView",
            "align_content": null,
            "align_items": null,
            "align_self": null,
            "border": null,
            "bottom": null,
            "display": null,
            "flex": null,
            "flex_flow": null,
            "grid_area": null,
            "grid_auto_columns": null,
            "grid_auto_flow": null,
            "grid_auto_rows": null,
            "grid_column": null,
            "grid_gap": null,
            "grid_row": null,
            "grid_template_areas": null,
            "grid_template_columns": null,
            "grid_template_rows": null,
            "height": null,
            "justify_content": null,
            "justify_items": null,
            "left": null,
            "margin": null,
            "max_height": null,
            "max_width": null,
            "min_height": null,
            "min_width": null,
            "object_fit": null,
            "object_position": null,
            "order": null,
            "overflow": null,
            "overflow_x": null,
            "overflow_y": null,
            "padding": null,
            "right": null,
            "top": null,
            "visibility": null,
            "width": null
          }
        }
      }
    }
  },
  "cells": [
    {
      "cell_type": "code",
      "source": [
        "# Instale as bibliotecas necessárias\n",
        "!pip install --upgrade google-generativeai feedparser matplotlib fpdf\n"
      ],
      "metadata": {
        "colab": {
          "base_uri": "https://localhost:8080/"
        },
        "id": "dkDilkKTDtcn",
        "outputId": "49117cfc-fedd-4247-bbf6-52df48afd51b"
      },
      "execution_count": 1,
      "outputs": [
        {
          "output_type": "stream",
          "name": "stdout",
          "text": [
            "Requirement already satisfied: google-generativeai in /usr/local/lib/python3.11/dist-packages (0.8.5)\n",
            "Collecting feedparser\n",
            "  Downloading feedparser-6.0.11-py3-none-any.whl.metadata (2.4 kB)\n",
            "Requirement already satisfied: matplotlib in /usr/local/lib/python3.11/dist-packages (3.10.0)\n",
            "Collecting matplotlib\n",
            "  Downloading matplotlib-3.10.3-cp311-cp311-manylinux_2_17_x86_64.manylinux2014_x86_64.whl.metadata (11 kB)\n",
            "Collecting fpdf\n",
            "  Downloading fpdf-1.7.2.tar.gz (39 kB)\n",
            "  Preparing metadata (setup.py) ... \u001b[?25l\u001b[?25hdone\n",
            "Requirement already satisfied: google-ai-generativelanguage==0.6.15 in /usr/local/lib/python3.11/dist-packages (from google-generativeai) (0.6.15)\n",
            "Requirement already satisfied: google-api-core in /usr/local/lib/python3.11/dist-packages (from google-generativeai) (2.24.2)\n",
            "Requirement already satisfied: google-api-python-client in /usr/local/lib/python3.11/dist-packages (from google-generativeai) (2.169.0)\n",
            "Requirement already satisfied: google-auth>=2.15.0 in /usr/local/lib/python3.11/dist-packages (from google-generativeai) (2.38.0)\n",
            "Requirement already satisfied: protobuf in /usr/local/lib/python3.11/dist-packages (from google-generativeai) (5.29.4)\n",
            "Requirement already satisfied: pydantic in /usr/local/lib/python3.11/dist-packages (from google-generativeai) (2.11.4)\n",
            "Requirement already satisfied: tqdm in /usr/local/lib/python3.11/dist-packages (from google-generativeai) (4.67.1)\n",
            "Requirement already satisfied: typing-extensions in /usr/local/lib/python3.11/dist-packages (from google-generativeai) (4.13.2)\n",
            "Requirement already satisfied: proto-plus<2.0.0dev,>=1.22.3 in /usr/local/lib/python3.11/dist-packages (from google-ai-generativelanguage==0.6.15->google-generativeai) (1.26.1)\n",
            "Collecting sgmllib3k (from feedparser)\n",
            "  Downloading sgmllib3k-1.0.0.tar.gz (5.8 kB)\n",
            "  Preparing metadata (setup.py) ... \u001b[?25l\u001b[?25hdone\n",
            "Requirement already satisfied: contourpy>=1.0.1 in /usr/local/lib/python3.11/dist-packages (from matplotlib) (1.3.2)\n",
            "Requirement already satisfied: cycler>=0.10 in /usr/local/lib/python3.11/dist-packages (from matplotlib) (0.12.1)\n",
            "Requirement already satisfied: fonttools>=4.22.0 in /usr/local/lib/python3.11/dist-packages (from matplotlib) (4.58.0)\n",
            "Requirement already satisfied: kiwisolver>=1.3.1 in /usr/local/lib/python3.11/dist-packages (from matplotlib) (1.4.8)\n",
            "Requirement already satisfied: numpy>=1.23 in /usr/local/lib/python3.11/dist-packages (from matplotlib) (2.0.2)\n",
            "Requirement already satisfied: packaging>=20.0 in /usr/local/lib/python3.11/dist-packages (from matplotlib) (24.2)\n",
            "Requirement already satisfied: pillow>=8 in /usr/local/lib/python3.11/dist-packages (from matplotlib) (11.2.1)\n",
            "Requirement already satisfied: pyparsing>=2.3.1 in /usr/local/lib/python3.11/dist-packages (from matplotlib) (3.2.3)\n",
            "Requirement already satisfied: python-dateutil>=2.7 in /usr/local/lib/python3.11/dist-packages (from matplotlib) (2.9.0.post0)\n",
            "Requirement already satisfied: googleapis-common-protos<2.0.0,>=1.56.2 in /usr/local/lib/python3.11/dist-packages (from google-api-core->google-generativeai) (1.70.0)\n",
            "Requirement already satisfied: requests<3.0.0,>=2.18.0 in /usr/local/lib/python3.11/dist-packages (from google-api-core->google-generativeai) (2.32.3)\n",
            "Requirement already satisfied: cachetools<6.0,>=2.0.0 in /usr/local/lib/python3.11/dist-packages (from google-auth>=2.15.0->google-generativeai) (5.5.2)\n",
            "Requirement already satisfied: pyasn1-modules>=0.2.1 in /usr/local/lib/python3.11/dist-packages (from google-auth>=2.15.0->google-generativeai) (0.4.2)\n",
            "Requirement already satisfied: rsa<5,>=3.1.4 in /usr/local/lib/python3.11/dist-packages (from google-auth>=2.15.0->google-generativeai) (4.9.1)\n",
            "Requirement already satisfied: six>=1.5 in /usr/local/lib/python3.11/dist-packages (from python-dateutil>=2.7->matplotlib) (1.17.0)\n",
            "Requirement already satisfied: httplib2<1.0.0,>=0.19.0 in /usr/local/lib/python3.11/dist-packages (from google-api-python-client->google-generativeai) (0.22.0)\n",
            "Requirement already satisfied: google-auth-httplib2<1.0.0,>=0.2.0 in /usr/local/lib/python3.11/dist-packages (from google-api-python-client->google-generativeai) (0.2.0)\n",
            "Requirement already satisfied: uritemplate<5,>=3.0.1 in /usr/local/lib/python3.11/dist-packages (from google-api-python-client->google-generativeai) (4.1.1)\n",
            "Requirement already satisfied: annotated-types>=0.6.0 in /usr/local/lib/python3.11/dist-packages (from pydantic->google-generativeai) (0.7.0)\n",
            "Requirement already satisfied: pydantic-core==2.33.2 in /usr/local/lib/python3.11/dist-packages (from pydantic->google-generativeai) (2.33.2)\n",
            "Requirement already satisfied: typing-inspection>=0.4.0 in /usr/local/lib/python3.11/dist-packages (from pydantic->google-generativeai) (0.4.0)\n",
            "Requirement already satisfied: grpcio<2.0dev,>=1.33.2 in /usr/local/lib/python3.11/dist-packages (from google-api-core[grpc]!=2.0.*,!=2.1.*,!=2.10.*,!=2.2.*,!=2.3.*,!=2.4.*,!=2.5.*,!=2.6.*,!=2.7.*,!=2.8.*,!=2.9.*,<3.0.0dev,>=1.34.1->google-ai-generativelanguage==0.6.15->google-generativeai) (1.71.0)\n",
            "Requirement already satisfied: grpcio-status<2.0.dev0,>=1.33.2 in /usr/local/lib/python3.11/dist-packages (from google-api-core[grpc]!=2.0.*,!=2.1.*,!=2.10.*,!=2.2.*,!=2.3.*,!=2.4.*,!=2.5.*,!=2.6.*,!=2.7.*,!=2.8.*,!=2.9.*,<3.0.0dev,>=1.34.1->google-ai-generativelanguage==0.6.15->google-generativeai) (1.71.0)\n",
            "Requirement already satisfied: pyasn1<0.7.0,>=0.6.1 in /usr/local/lib/python3.11/dist-packages (from pyasn1-modules>=0.2.1->google-auth>=2.15.0->google-generativeai) (0.6.1)\n",
            "Requirement already satisfied: charset-normalizer<4,>=2 in /usr/local/lib/python3.11/dist-packages (from requests<3.0.0,>=2.18.0->google-api-core->google-generativeai) (3.4.2)\n",
            "Requirement already satisfied: idna<4,>=2.5 in /usr/local/lib/python3.11/dist-packages (from requests<3.0.0,>=2.18.0->google-api-core->google-generativeai) (3.10)\n",
            "Requirement already satisfied: urllib3<3,>=1.21.1 in /usr/local/lib/python3.11/dist-packages (from requests<3.0.0,>=2.18.0->google-api-core->google-generativeai) (2.4.0)\n",
            "Requirement already satisfied: certifi>=2017.4.17 in /usr/local/lib/python3.11/dist-packages (from requests<3.0.0,>=2.18.0->google-api-core->google-generativeai) (2025.4.26)\n",
            "Downloading feedparser-6.0.11-py3-none-any.whl (81 kB)\n",
            "\u001b[2K   \u001b[90m━━━━━━━━━━━━━━━━━━━━━━━━━━━━━━━━━━━━━━━━\u001b[0m \u001b[32m81.3/81.3 kB\u001b[0m \u001b[31m2.7 MB/s\u001b[0m eta \u001b[36m0:00:00\u001b[0m\n",
            "\u001b[?25hDownloading matplotlib-3.10.3-cp311-cp311-manylinux_2_17_x86_64.manylinux2014_x86_64.whl (8.6 MB)\n",
            "\u001b[2K   \u001b[90m━━━━━━━━━━━━━━━━━━━━━━━━━━━━━━━━━━━━━━━━\u001b[0m \u001b[32m8.6/8.6 MB\u001b[0m \u001b[31m73.2 MB/s\u001b[0m eta \u001b[36m0:00:00\u001b[0m\n",
            "\u001b[?25hBuilding wheels for collected packages: fpdf, sgmllib3k\n",
            "  Building wheel for fpdf (setup.py) ... \u001b[?25l\u001b[?25hdone\n",
            "  Created wheel for fpdf: filename=fpdf-1.7.2-py2.py3-none-any.whl size=40704 sha256=2cfc0faff9e313806fb8a2137660e4d8e7b3e166f1b49471d618f84ebc19a983\n",
            "  Stored in directory: /root/.cache/pip/wheels/65/4f/66/bbda9866da446a72e206d6484cd97381cbc7859a7068541c36\n",
            "  Building wheel for sgmllib3k (setup.py) ... \u001b[?25l\u001b[?25hdone\n",
            "  Created wheel for sgmllib3k: filename=sgmllib3k-1.0.0-py3-none-any.whl size=6046 sha256=062a0e80fe38cdfc756225f8469917d886a5d6517caf3dc6df4babc026f37e44\n",
            "  Stored in directory: /root/.cache/pip/wheels/3b/25/2a/105d6a15df6914f4d15047691c6c28f9052cc1173e40285d03\n",
            "Successfully built fpdf sgmllib3k\n",
            "Installing collected packages: sgmllib3k, fpdf, feedparser, matplotlib\n",
            "  Attempting uninstall: matplotlib\n",
            "    Found existing installation: matplotlib 3.10.0\n",
            "    Uninstalling matplotlib-3.10.0:\n",
            "      Successfully uninstalled matplotlib-3.10.0\n",
            "Successfully installed feedparser-6.0.11 fpdf-1.7.2 matplotlib-3.10.3 sgmllib3k-1.0.0\n"
          ]
        }
      ]
    },
    {
      "cell_type": "code",
      "source": [
        "# Importando as bibliotecas\n",
        "import feedparser\n",
        "import matplotlib.pyplot as plt\n",
        "from fpdf import FPDF\n",
        "import getpass\n",
        "\n",
        "# Para Google Gemini (Gemini API)\n",
        "import google.generativeai as genai"
      ],
      "metadata": {
        "id": "CFQKKay3D2Wv"
      },
      "execution_count": 4,
      "outputs": []
    },
    {
      "cell_type": "code",
      "source": [
        "import os\n",
        "from google.colab import userdata\n",
        "\n",
        "os.environ[\"GOOGLE_API_KEY\"] = userdata.get('GOOGLE_API_KEY')"
      ],
      "metadata": {
        "id": "UNpZWbs1D6W_"
      },
      "execution_count": 5,
      "outputs": []
    },
    {
      "cell_type": "code",
      "source": [
        "!pip install ipywidgets\n"
      ],
      "metadata": {
        "colab": {
          "base_uri": "https://localhost:8080/"
        },
        "id": "A12GHQJaEBgg",
        "outputId": "d03c61f1-3f8c-4e67-8b44-c43a28097004"
      },
      "execution_count": 6,
      "outputs": [
        {
          "output_type": "stream",
          "name": "stdout",
          "text": [
            "Requirement already satisfied: ipywidgets in /usr/local/lib/python3.11/dist-packages (7.7.1)\n",
            "Requirement already satisfied: ipykernel>=4.5.1 in /usr/local/lib/python3.11/dist-packages (from ipywidgets) (6.17.1)\n",
            "Requirement already satisfied: ipython-genutils~=0.2.0 in /usr/local/lib/python3.11/dist-packages (from ipywidgets) (0.2.0)\n",
            "Requirement already satisfied: traitlets>=4.3.1 in /usr/local/lib/python3.11/dist-packages (from ipywidgets) (5.7.1)\n",
            "Requirement already satisfied: widgetsnbextension~=3.6.0 in /usr/local/lib/python3.11/dist-packages (from ipywidgets) (3.6.10)\n",
            "Requirement already satisfied: ipython>=4.0.0 in /usr/local/lib/python3.11/dist-packages (from ipywidgets) (7.34.0)\n",
            "Requirement already satisfied: jupyterlab-widgets>=1.0.0 in /usr/local/lib/python3.11/dist-packages (from ipywidgets) (3.0.15)\n",
            "Requirement already satisfied: debugpy>=1.0 in /usr/local/lib/python3.11/dist-packages (from ipykernel>=4.5.1->ipywidgets) (1.8.0)\n",
            "Requirement already satisfied: jupyter-client>=6.1.12 in /usr/local/lib/python3.11/dist-packages (from ipykernel>=4.5.1->ipywidgets) (6.1.12)\n",
            "Requirement already satisfied: matplotlib-inline>=0.1 in /usr/local/lib/python3.11/dist-packages (from ipykernel>=4.5.1->ipywidgets) (0.1.7)\n",
            "Requirement already satisfied: nest-asyncio in /usr/local/lib/python3.11/dist-packages (from ipykernel>=4.5.1->ipywidgets) (1.6.0)\n",
            "Requirement already satisfied: packaging in /usr/local/lib/python3.11/dist-packages (from ipykernel>=4.5.1->ipywidgets) (24.2)\n",
            "Requirement already satisfied: psutil in /usr/local/lib/python3.11/dist-packages (from ipykernel>=4.5.1->ipywidgets) (5.9.5)\n",
            "Requirement already satisfied: pyzmq>=17 in /usr/local/lib/python3.11/dist-packages (from ipykernel>=4.5.1->ipywidgets) (24.0.1)\n",
            "Requirement already satisfied: tornado>=6.1 in /usr/local/lib/python3.11/dist-packages (from ipykernel>=4.5.1->ipywidgets) (6.4.2)\n",
            "Requirement already satisfied: setuptools>=18.5 in /usr/local/lib/python3.11/dist-packages (from ipython>=4.0.0->ipywidgets) (75.2.0)\n",
            "Collecting jedi>=0.16 (from ipython>=4.0.0->ipywidgets)\n",
            "  Downloading jedi-0.19.2-py2.py3-none-any.whl.metadata (22 kB)\n",
            "Requirement already satisfied: decorator in /usr/local/lib/python3.11/dist-packages (from ipython>=4.0.0->ipywidgets) (4.4.2)\n",
            "Requirement already satisfied: pickleshare in /usr/local/lib/python3.11/dist-packages (from ipython>=4.0.0->ipywidgets) (0.7.5)\n",
            "Requirement already satisfied: prompt-toolkit!=3.0.0,!=3.0.1,<3.1.0,>=2.0.0 in /usr/local/lib/python3.11/dist-packages (from ipython>=4.0.0->ipywidgets) (3.0.51)\n",
            "Requirement already satisfied: pygments in /usr/local/lib/python3.11/dist-packages (from ipython>=4.0.0->ipywidgets) (2.19.1)\n",
            "Requirement already satisfied: backcall in /usr/local/lib/python3.11/dist-packages (from ipython>=4.0.0->ipywidgets) (0.2.0)\n",
            "Requirement already satisfied: pexpect>4.3 in /usr/local/lib/python3.11/dist-packages (from ipython>=4.0.0->ipywidgets) (4.9.0)\n",
            "Requirement already satisfied: notebook>=4.4.1 in /usr/local/lib/python3.11/dist-packages (from widgetsnbextension~=3.6.0->ipywidgets) (6.5.7)\n",
            "Requirement already satisfied: parso<0.9.0,>=0.8.4 in /usr/local/lib/python3.11/dist-packages (from jedi>=0.16->ipython>=4.0.0->ipywidgets) (0.8.4)\n",
            "Requirement already satisfied: jupyter-core>=4.6.0 in /usr/local/lib/python3.11/dist-packages (from jupyter-client>=6.1.12->ipykernel>=4.5.1->ipywidgets) (5.7.2)\n",
            "Requirement already satisfied: python-dateutil>=2.1 in /usr/local/lib/python3.11/dist-packages (from jupyter-client>=6.1.12->ipykernel>=4.5.1->ipywidgets) (2.9.0.post0)\n",
            "Requirement already satisfied: jinja2 in /usr/local/lib/python3.11/dist-packages (from notebook>=4.4.1->widgetsnbextension~=3.6.0->ipywidgets) (3.1.6)\n",
            "Requirement already satisfied: argon2-cffi in /usr/local/lib/python3.11/dist-packages (from notebook>=4.4.1->widgetsnbextension~=3.6.0->ipywidgets) (23.1.0)\n",
            "Requirement already satisfied: nbformat in /usr/local/lib/python3.11/dist-packages (from notebook>=4.4.1->widgetsnbextension~=3.6.0->ipywidgets) (5.10.4)\n",
            "Requirement already satisfied: nbconvert>=5 in /usr/local/lib/python3.11/dist-packages (from notebook>=4.4.1->widgetsnbextension~=3.6.0->ipywidgets) (7.16.6)\n",
            "Requirement already satisfied: Send2Trash>=1.8.0 in /usr/local/lib/python3.11/dist-packages (from notebook>=4.4.1->widgetsnbextension~=3.6.0->ipywidgets) (1.8.3)\n",
            "Requirement already satisfied: terminado>=0.8.3 in /usr/local/lib/python3.11/dist-packages (from notebook>=4.4.1->widgetsnbextension~=3.6.0->ipywidgets) (0.18.1)\n",
            "Requirement already satisfied: prometheus-client in /usr/local/lib/python3.11/dist-packages (from notebook>=4.4.1->widgetsnbextension~=3.6.0->ipywidgets) (0.21.1)\n",
            "Requirement already satisfied: nbclassic>=0.4.7 in /usr/local/lib/python3.11/dist-packages (from notebook>=4.4.1->widgetsnbextension~=3.6.0->ipywidgets) (1.3.1)\n",
            "Requirement already satisfied: ptyprocess>=0.5 in /usr/local/lib/python3.11/dist-packages (from pexpect>4.3->ipython>=4.0.0->ipywidgets) (0.7.0)\n",
            "Requirement already satisfied: wcwidth in /usr/local/lib/python3.11/dist-packages (from prompt-toolkit!=3.0.0,!=3.0.1,<3.1.0,>=2.0.0->ipython>=4.0.0->ipywidgets) (0.2.13)\n",
            "Requirement already satisfied: platformdirs>=2.5 in /usr/local/lib/python3.11/dist-packages (from jupyter-core>=4.6.0->jupyter-client>=6.1.12->ipykernel>=4.5.1->ipywidgets) (4.3.8)\n",
            "Requirement already satisfied: notebook-shim>=0.2.3 in /usr/local/lib/python3.11/dist-packages (from nbclassic>=0.4.7->notebook>=4.4.1->widgetsnbextension~=3.6.0->ipywidgets) (0.2.4)\n",
            "Requirement already satisfied: beautifulsoup4 in /usr/local/lib/python3.11/dist-packages (from nbconvert>=5->notebook>=4.4.1->widgetsnbextension~=3.6.0->ipywidgets) (4.13.4)\n",
            "Requirement already satisfied: bleach!=5.0.0 in /usr/local/lib/python3.11/dist-packages (from bleach[css]!=5.0.0->nbconvert>=5->notebook>=4.4.1->widgetsnbextension~=3.6.0->ipywidgets) (6.2.0)\n",
            "Requirement already satisfied: defusedxml in /usr/local/lib/python3.11/dist-packages (from nbconvert>=5->notebook>=4.4.1->widgetsnbextension~=3.6.0->ipywidgets) (0.7.1)\n",
            "Requirement already satisfied: jupyterlab-pygments in /usr/local/lib/python3.11/dist-packages (from nbconvert>=5->notebook>=4.4.1->widgetsnbextension~=3.6.0->ipywidgets) (0.3.0)\n",
            "Requirement already satisfied: markupsafe>=2.0 in /usr/local/lib/python3.11/dist-packages (from nbconvert>=5->notebook>=4.4.1->widgetsnbextension~=3.6.0->ipywidgets) (3.0.2)\n",
            "Requirement already satisfied: mistune<4,>=2.0.3 in /usr/local/lib/python3.11/dist-packages (from nbconvert>=5->notebook>=4.4.1->widgetsnbextension~=3.6.0->ipywidgets) (3.1.3)\n",
            "Requirement already satisfied: nbclient>=0.5.0 in /usr/local/lib/python3.11/dist-packages (from nbconvert>=5->notebook>=4.4.1->widgetsnbextension~=3.6.0->ipywidgets) (0.10.2)\n",
            "Requirement already satisfied: pandocfilters>=1.4.1 in /usr/local/lib/python3.11/dist-packages (from nbconvert>=5->notebook>=4.4.1->widgetsnbextension~=3.6.0->ipywidgets) (1.5.1)\n",
            "Requirement already satisfied: fastjsonschema>=2.15 in /usr/local/lib/python3.11/dist-packages (from nbformat->notebook>=4.4.1->widgetsnbextension~=3.6.0->ipywidgets) (2.21.1)\n",
            "Requirement already satisfied: jsonschema>=2.6 in /usr/local/lib/python3.11/dist-packages (from nbformat->notebook>=4.4.1->widgetsnbextension~=3.6.0->ipywidgets) (4.23.0)\n",
            "Requirement already satisfied: six>=1.5 in /usr/local/lib/python3.11/dist-packages (from python-dateutil>=2.1->jupyter-client>=6.1.12->ipykernel>=4.5.1->ipywidgets) (1.17.0)\n",
            "Requirement already satisfied: argon2-cffi-bindings in /usr/local/lib/python3.11/dist-packages (from argon2-cffi->notebook>=4.4.1->widgetsnbextension~=3.6.0->ipywidgets) (21.2.0)\n",
            "Requirement already satisfied: webencodings in /usr/local/lib/python3.11/dist-packages (from bleach!=5.0.0->bleach[css]!=5.0.0->nbconvert>=5->notebook>=4.4.1->widgetsnbextension~=3.6.0->ipywidgets) (0.5.1)\n",
            "Requirement already satisfied: tinycss2<1.5,>=1.1.0 in /usr/local/lib/python3.11/dist-packages (from bleach[css]!=5.0.0->nbconvert>=5->notebook>=4.4.1->widgetsnbextension~=3.6.0->ipywidgets) (1.4.0)\n",
            "Requirement already satisfied: attrs>=22.2.0 in /usr/local/lib/python3.11/dist-packages (from jsonschema>=2.6->nbformat->notebook>=4.4.1->widgetsnbextension~=3.6.0->ipywidgets) (25.3.0)\n",
            "Requirement already satisfied: jsonschema-specifications>=2023.03.6 in /usr/local/lib/python3.11/dist-packages (from jsonschema>=2.6->nbformat->notebook>=4.4.1->widgetsnbextension~=3.6.0->ipywidgets) (2025.4.1)\n",
            "Requirement already satisfied: referencing>=0.28.4 in /usr/local/lib/python3.11/dist-packages (from jsonschema>=2.6->nbformat->notebook>=4.4.1->widgetsnbextension~=3.6.0->ipywidgets) (0.36.2)\n",
            "Requirement already satisfied: rpds-py>=0.7.1 in /usr/local/lib/python3.11/dist-packages (from jsonschema>=2.6->nbformat->notebook>=4.4.1->widgetsnbextension~=3.6.0->ipywidgets) (0.24.0)\n",
            "Requirement already satisfied: jupyter-server<3,>=1.8 in /usr/local/lib/python3.11/dist-packages (from notebook-shim>=0.2.3->nbclassic>=0.4.7->notebook>=4.4.1->widgetsnbextension~=3.6.0->ipywidgets) (1.16.0)\n",
            "Requirement already satisfied: cffi>=1.0.1 in /usr/local/lib/python3.11/dist-packages (from argon2-cffi-bindings->argon2-cffi->notebook>=4.4.1->widgetsnbextension~=3.6.0->ipywidgets) (1.17.1)\n",
            "Requirement already satisfied: soupsieve>1.2 in /usr/local/lib/python3.11/dist-packages (from beautifulsoup4->nbconvert>=5->notebook>=4.4.1->widgetsnbextension~=3.6.0->ipywidgets) (2.7)\n",
            "Requirement already satisfied: typing-extensions>=4.0.0 in /usr/local/lib/python3.11/dist-packages (from beautifulsoup4->nbconvert>=5->notebook>=4.4.1->widgetsnbextension~=3.6.0->ipywidgets) (4.13.2)\n",
            "Requirement already satisfied: pycparser in /usr/local/lib/python3.11/dist-packages (from cffi>=1.0.1->argon2-cffi-bindings->argon2-cffi->notebook>=4.4.1->widgetsnbextension~=3.6.0->ipywidgets) (2.22)\n",
            "Requirement already satisfied: anyio>=3.1.0 in /usr/local/lib/python3.11/dist-packages (from jupyter-server<3,>=1.8->notebook-shim>=0.2.3->nbclassic>=0.4.7->notebook>=4.4.1->widgetsnbextension~=3.6.0->ipywidgets) (4.9.0)\n",
            "Requirement already satisfied: websocket-client in /usr/local/lib/python3.11/dist-packages (from jupyter-server<3,>=1.8->notebook-shim>=0.2.3->nbclassic>=0.4.7->notebook>=4.4.1->widgetsnbextension~=3.6.0->ipywidgets) (1.8.0)\n",
            "Requirement already satisfied: idna>=2.8 in /usr/local/lib/python3.11/dist-packages (from anyio>=3.1.0->jupyter-server<3,>=1.8->notebook-shim>=0.2.3->nbclassic>=0.4.7->notebook>=4.4.1->widgetsnbextension~=3.6.0->ipywidgets) (3.10)\n",
            "Requirement already satisfied: sniffio>=1.1 in /usr/local/lib/python3.11/dist-packages (from anyio>=3.1.0->jupyter-server<3,>=1.8->notebook-shim>=0.2.3->nbclassic>=0.4.7->notebook>=4.4.1->widgetsnbextension~=3.6.0->ipywidgets) (1.3.1)\n",
            "Downloading jedi-0.19.2-py2.py3-none-any.whl (1.6 MB)\n",
            "\u001b[2K   \u001b[90m━━━━━━━━━━━━━━━━━━━━━━━━━━━━━━━━━━━━━━━━\u001b[0m \u001b[32m1.6/1.6 MB\u001b[0m \u001b[31m36.9 MB/s\u001b[0m eta \u001b[36m0:00:00\u001b[0m\n",
            "\u001b[?25hInstalling collected packages: jedi\n",
            "Successfully installed jedi-0.19.2\n"
          ]
        }
      ]
    },
    {
      "cell_type": "code",
      "source": [
        "!jupyter nbextension enable --py widgetsnbextension"
      ],
      "metadata": {
        "colab": {
          "base_uri": "https://localhost:8080/"
        },
        "id": "B43UockZEGTH",
        "outputId": "972cd848-194b-48df-d90e-e782df597edb"
      },
      "execution_count": 7,
      "outputs": [
        {
          "output_type": "stream",
          "name": "stdout",
          "text": [
            "Enabling notebook extension jupyter-js-widgets/extension...\n",
            "Paths used for configuration of notebook: \n",
            "    \t/root/.jupyter/nbconfig/notebook.json\n",
            "Paths used for configuration of notebook: \n",
            "    \t\n",
            "      - Validating: \u001b[32mOK\u001b[0m\n",
            "Paths used for configuration of notebook: \n",
            "    \t/root/.jupyter/nbconfig/notebook.json\n"
          ]
        }
      ]
    },
    {
      "cell_type": "code",
      "source": [
        "!pip install -q google-generativeai"
      ],
      "metadata": {
        "id": "MZOQXXbtELff"
      },
      "execution_count": 8,
      "outputs": []
    },
    {
      "cell_type": "code",
      "source": [
        "# Importando as bibliotecas\n",
        "import feedparser\n",
        "import matplotlib.pyplot as plt\n",
        "from fpdf import FPDF\n",
        "import getpass\n",
        "import urllib.parse\n",
        "import re # Importar a biblioteca re para contar classificações\n",
        "\n",
        "# Para Google Gemini (Gemini API)\n",
        "import google.generativeai as genai\n",
        "\n",
        "import os\n",
        "from google.colab import userdata\n",
        "\n",
        "# Carregar a API Key do userdata\n",
        "os.environ[\"GOOGLE_API_KEY\"] = userdata.get('GOOGLE_API_KEY')\n",
        "genai.configure(api_key=os.environ.get('GOOGLE_API_KEY'))\n",
        "\n",
        "import ipywidgets as widgets\n",
        "from IPython.display import display, HTML, clear_output"
      ],
      "metadata": {
        "id": "xxjUFtHuEP23"
      },
      "execution_count": 9,
      "outputs": []
    },
    {
      "cell_type": "code",
      "source": [
        "# AGENTE 0: Cadastro de Cliente\n",
        "\n",
        "display(HTML(\"\"\"\n",
        "<div style=\"background: linear-gradient(90deg, #6f42c1, #0d6efd); padding:20px; border-radius:12px; margin-bottom:18px;\">\n",
        "  <h2 style=\"color:white; text-align:center; margin:0; font-family: Arial, sans-serif; letter-spacing:1px;\">\n",
        "    Cadastro de Cliente - Clipping Inteligente\n",
        "  </h2>\n",
        "  <p style=\"color:#d1e6fa; text-align:center; margin:6px 0 0 0;\">Digite as informações do cliente para buscar notícias automaticamente.</p>\n",
        "</div>\n",
        "\"\"\"))\n",
        "\n",
        "clientes = []\n",
        "\n",
        "nome_cliente = widgets.Text(\n",
        "    value='',\n",
        "    placeholder='Nome do cliente',\n",
        "    description='Nome:',\n",
        "    style={'description_width': '70px'},\n",
        "    layout=widgets.Layout(width='400px')\n",
        ")\n",
        "\n",
        "palavras_chave = widgets.Text(\n",
        "    value='',\n",
        "    placeholder='Palavras-chave separadas por vírgula',\n",
        "    description='Keywords:',\n",
        "    style={'description_width': '70px'},\n",
        "    layout=widgets.Layout(width='400px')\n",
        ")\n",
        "\n",
        "botao_cadastrar = widgets.Button(\n",
        "    description=\"Cadastrar Cliente\",\n",
        "    button_style='',\n",
        "    layout=widgets.Layout(width='400px'),\n",
        "    style={'button_color': '#6f42c1', 'font_weight':'bold'}\n",
        ")\n",
        "\n",
        "saida = widgets.Output()\n",
        "\n",
        "def on_cadastrar_clicked(b):\n",
        "    with saida:\n",
        "        clear_output()\n",
        "        nome = nome_cliente.value.strip()\n",
        "        palavras = [k.strip() for k in palavras_chave.value.split(',') if k.strip()]\n",
        "        if nome and palavras:\n",
        "            clientes.append({'nome': nome, 'keywords': palavras})\n",
        "            print(f\"\\033[94mCliente cadastrado com sucesso!\\033[0m\")\n",
        "            print(\"Clientes cadastrados:\")\n",
        "            for idx, cliente in enumerate(clientes, 1):\n",
        "                print(f\"{idx}. {cliente['nome']} - {', '.join(cliente['keywords'])}\")\n",
        "        else:\n",
        "            print(\"\\033[91mPreencha todos os campos!\\033[0m\")\n",
        "\n",
        "botao_cadastrar.on_click(on_cadastrar_clicked)\n",
        "\n",
        "display(nome_cliente)\n",
        "display(palavras_chave)\n",
        "display(botao_cadastrar)\n",
        "display(saida)"
      ],
      "metadata": {
        "colab": {
          "base_uri": "https://localhost:8080/",
          "height": 268,
          "referenced_widgets": [
            "257ab5ac0c3c4885b832c2c70944a5d2",
            "0ca9366a64c1440eb2c8d6a43ee54180",
            "919968ca3c4c44e1a67c2ebd1d0b2b42",
            "3e29716fe8e64d50ac99b975992192ac",
            "8e1f68a755674cc5b00b4bc9324751e3",
            "0afbee956033450184a1c5e29d5b3e72",
            "c87a645aa1be49d285ebee4d05b49b80",
            "96808af3a68e4e05a14058c741bd4055",
            "e4f856763fca456188049a8103f13680",
            "0d931f5e65c94b768fb12db363bd2eef",
            "6fab0d4c4be649d1a727219b7c0d3559"
          ]
        },
        "id": "0dGRx5bNEk1X",
        "outputId": "977e77db-0f28-4778-d8ef-e86ba41d73bb"
      },
      "execution_count": 10,
      "outputs": [
        {
          "output_type": "display_data",
          "data": {
            "text/plain": [
              "<IPython.core.display.HTML object>"
            ],
            "text/html": [
              "\n",
              "<div style=\"background: linear-gradient(90deg, #6f42c1, #0d6efd); padding:20px; border-radius:12px; margin-bottom:18px;\">\n",
              "  <h2 style=\"color:white; text-align:center; margin:0; font-family: Arial, sans-serif; letter-spacing:1px;\">\n",
              "    Cadastro de Cliente - Clipping Inteligente\n",
              "  </h2>\n",
              "  <p style=\"color:#d1e6fa; text-align:center; margin:6px 0 0 0;\">Digite as informações do cliente para buscar notícias automaticamente.</p>\n",
              "</div>\n"
            ]
          },
          "metadata": {}
        },
        {
          "output_type": "display_data",
          "data": {
            "text/plain": [
              "Text(value='', description='Nome:', layout=Layout(width='400px'), placeholder='Nome do cliente', style=Descrip…"
            ],
            "application/vnd.jupyter.widget-view+json": {
              "version_major": 2,
              "version_minor": 0,
              "model_id": "257ab5ac0c3c4885b832c2c70944a5d2"
            }
          },
          "metadata": {}
        },
        {
          "output_type": "display_data",
          "data": {
            "text/plain": [
              "Text(value='', description='Keywords:', layout=Layout(width='400px'), placeholder='Palavras-chave separadas po…"
            ],
            "application/vnd.jupyter.widget-view+json": {
              "version_major": 2,
              "version_minor": 0,
              "model_id": "3e29716fe8e64d50ac99b975992192ac"
            }
          },
          "metadata": {}
        },
        {
          "output_type": "display_data",
          "data": {
            "text/plain": [
              "Button(description='Cadastrar Cliente', layout=Layout(width='400px'), style=ButtonStyle(button_color='#6f42c1'…"
            ],
            "application/vnd.jupyter.widget-view+json": {
              "version_major": 2,
              "version_minor": 0,
              "model_id": "c87a645aa1be49d285ebee4d05b49b80"
            }
          },
          "metadata": {}
        },
        {
          "output_type": "display_data",
          "data": {
            "text/plain": [
              "Output()"
            ],
            "application/vnd.jupyter.widget-view+json": {
              "version_major": 2,
              "version_minor": 0,
              "model_id": "0d931f5e65c94b768fb12db363bd2eef"
            }
          },
          "metadata": {}
        }
      ]
    },
    {
      "cell_type": "code",
      "source": [
        "# AGENTE 1: Busca de Notícias do Cliente\n",
        "\n",
        "display(HTML(\"\"\"\n",
        "<div style=\"background: linear-gradient(90deg, #6f42c1, #0d6efd); padding:16px; border-radius:12px; margin-bottom:18px;\">\n",
        "  <h2 style=\"color:white; text-align:center; margin:0; font-family: Arial, sans-serif; letter-spacing:1px;\">\n",
        "    Seleção de Cliente • Busca de Notícias\n",
        "  </h2>\n",
        "  <p style=\"color:#d1e6fa; text-align:center; margin:6px 0 0 0;\">Escolha o cliente e busque as notícias mais recentes dos principais portais.</p>\n",
        "</div>\n",
        "\"\"\"))\n",
        "\n",
        "drop_clientes = widgets.Dropdown(\n",
        "    options=[(f\"{c['nome']} - {', '.join(c['keywords'])}\", idx) for idx, c in enumerate(clientes)],\n",
        "    description='Cliente:',\n",
        "    style={'description_width': '75px'},\n",
        "    layout=widgets.Layout(width='400px')\n",
        ")\n",
        "\n",
        "botao_buscar = widgets.Button(\n",
        "    description=\"Buscar Notícias\",\n",
        "    button_style='',\n",
        "    layout=widgets.Layout(width='400px'),\n",
        "    style={'button_color': '#0d6efd', 'font_weight':'bold'}\n",
        ")\n",
        "\n",
        "saida_noticias = widgets.Output()\n",
        "noticias_cliente = {}\n",
        "\n",
        "def buscar_google_news(cliente, idioma='pt-BR'):\n",
        "    keywords = ' '.join(cliente['keywords'])\n",
        "    query = f\"{keywords} site:.br\"\n",
        "    query_encoded = urllib.parse.quote(query)\n",
        "    url = f\"https://news.google.com/rss/search?q={query_encoded}&hl={idioma}&gl=BR&ceid=BR:{idioma.split('-')[0].upper()}\"\n",
        "    feed = feedparser.parse(url)\n",
        "    return feed.entries[:10]\n",
        "\n",
        "def buscar_g1(cliente):\n",
        "    url = \"https://g1.globo.com/rss/g1/\"\n",
        "    feed = feedparser.parse(url)\n",
        "    resultados = []\n",
        "    for entry in feed.entries:\n",
        "        titulo = entry.title.lower()\n",
        "        resumo = entry.summary.lower() if hasattr(entry, \"summary\") else \"\"\n",
        "        for kw in cliente['keywords']:\n",
        "            if kw.lower() in titulo or kw.lower() in resumo:\n",
        "                resultados.append(entry)\n",
        "                break\n",
        "    return resultados[:5]\n",
        "\n",
        "def buscar_folha(cliente):\n",
        "    url = \"https://feeds.folha.uol.com.br/emcimadahora/rss091.xml\"\n",
        "    feed = feedparser.parse(url)\n",
        "    resultados = []\n",
        "    for entry in feed.entries:\n",
        "        titulo = entry.title.lower()\n",
        "        resumo = entry.summary.lower() if hasattr(entry, \"summary\") else \"\"\n",
        "        for kw in cliente['keywords']:\n",
        "            if kw.lower() in titulo or kw.lower() in resumo:\n",
        "                resultados.append(entry)\n",
        "                break\n",
        "    return resultados[:5]\n",
        "\n",
        "def buscar_noticias_multifonte(cliente):\n",
        "    noticias = []\n",
        "    noticias += buscar_google_news(cliente)\n",
        "    noticias += buscar_g1(cliente)\n",
        "    noticias += buscar_folha(cliente)\n",
        "    vistos = set()\n",
        "    noticias_unicas = []\n",
        "    for n in noticias:\n",
        "        if n.title not in vistos:\n",
        "            noticias_unicas.append(n)\n",
        "            vistos.add(n.title)\n",
        "    return noticias_unicas[:15]\n",
        "\n",
        "def on_buscar_clicked(b):\n",
        "    with saida_noticias:\n",
        "        clear_output()\n",
        "        idx_cliente = drop_clientes.value\n",
        "        cliente = clientes[idx_cliente]\n",
        "        noticias = buscar_noticias_multifonte(cliente)\n",
        "        noticias_cliente[idx_cliente] = noticias\n",
        "        if noticias:\n",
        "            display(HTML(f'<div style=\"color:#fff; background:#0d6efd; padding:8px; border-radius:6px; margin-bottom:12px;\">{len(noticias)} notícias encontradas para <b>{cliente[\"nome\"]}</b>!</div>'))\n",
        "            for idx, noticia in enumerate(noticias):\n",
        "                display(HTML(f\"\"\"\n",
        "                <div style=\"background: #f5f6fa; border-left: 4px solid #6f42c1; padding:12px; margin-bottom:10px; border-radius:8px;\">\n",
        "                  <span style=\"color:#0d6efd; font-weight:bold;\">{idx+1}.</span>\n",
        "                  <span style=\"color:#222; font-size:1.08em; font-weight:bold;\">{noticia.title}</span><br>\n",
        "                  <a href=\"{noticia.link}\" target=\"_blank\" style=\"color:#6f42c1; text-decoration:underline;\">Acessar notícia</a>\n",
        "                </div>\n",
        "                \"\"\"))\n",
        "        else:\n",
        "            display(HTML('<div style=\"color:#fff; background:#6f42c1; padding:8px; border-radius:6px;\">Nenhuma notícia encontrada para as palavras-chave deste cliente.</div>'))\n",
        "\n",
        "botao_buscar.on_click(on_buscar_clicked)\n",
        "\n",
        "display(drop_clientes)\n",
        "display(botao_buscar)\n",
        "display(saida_noticias)"
      ],
      "metadata": {
        "colab": {
          "base_uri": "https://localhost:8080/",
          "height": 997,
          "referenced_widgets": [
            "2121c49e1a7b48fc91c365d82436539a",
            "8e9df319f0144df587778abe50796fa8",
            "dca11f73308744fbb199231154e046ad",
            "4d68d169534e4843915bd2d4f248310a",
            "f71b69e630f54a15af5ceda67d89ddf9",
            "75dc53492eac43d987285d525247c3d4",
            "6a73f507c7864a9a8e0a237da63b9341",
            "cb624016199e4a6eb9b0a6fbffe2d22a"
          ]
        },
        "id": "qlZIv-_SFd6_",
        "outputId": "07d27d45-0e3d-4956-bbf3-b8d26ee8d136"
      },
      "execution_count": 11,
      "outputs": [
        {
          "output_type": "display_data",
          "data": {
            "text/plain": [
              "<IPython.core.display.HTML object>"
            ],
            "text/html": [
              "\n",
              "<div style=\"background: linear-gradient(90deg, #6f42c1, #0d6efd); padding:16px; border-radius:12px; margin-bottom:18px;\">\n",
              "  <h2 style=\"color:white; text-align:center; margin:0; font-family: Arial, sans-serif; letter-spacing:1px;\">\n",
              "    Seleção de Cliente • Busca de Notícias\n",
              "  </h2>\n",
              "  <p style=\"color:#d1e6fa; text-align:center; margin:6px 0 0 0;\">Escolha o cliente e busque as notícias mais recentes dos principais portais.</p>\n",
              "</div>\n"
            ]
          },
          "metadata": {}
        },
        {
          "output_type": "display_data",
          "data": {
            "text/plain": [
              "Dropdown(description='Cliente:', layout=Layout(width='400px'), options=(('Thermas dos Laranjais - Thermas dos …"
            ],
            "application/vnd.jupyter.widget-view+json": {
              "version_major": 2,
              "version_minor": 0,
              "model_id": "2121c49e1a7b48fc91c365d82436539a"
            }
          },
          "metadata": {}
        },
        {
          "output_type": "display_data",
          "data": {
            "text/plain": [
              "Button(description='Buscar Notícias', layout=Layout(width='400px'), style=ButtonStyle(button_color='#0d6efd', …"
            ],
            "application/vnd.jupyter.widget-view+json": {
              "version_major": 2,
              "version_minor": 0,
              "model_id": "4d68d169534e4843915bd2d4f248310a"
            }
          },
          "metadata": {}
        },
        {
          "output_type": "display_data",
          "data": {
            "text/plain": [
              "Output()"
            ],
            "application/vnd.jupyter.widget-view+json": {
              "version_major": 2,
              "version_minor": 0,
              "model_id": "6a73f507c7864a9a8e0a237da63b9341"
            }
          },
          "metadata": {}
        }
      ]
    },
    {
      "cell_type": "code",
      "source": [
        "# AGENTE 2: Resumo das Notícias com IA Gemini\n",
        "\n",
        "botao_resumir = widgets.Button(\n",
        "    description=\"Gerar Resumo com IA\",\n",
        "    button_style='',\n",
        "    layout=widgets.Layout(width='400px'),\n",
        "    style={'button_color': '#6f42c1', 'font_weight':'bold'}\n",
        ")\n",
        "saida_resumo = widgets.Output()\n",
        "resumo = None\n",
        "\n",
        "def resumir_noticias_gemini(noticias, max_noticias=5):\n",
        "    textos = \"\\n\".join([\n",
        "        f\"Título: {n.title}\\nResumo: {getattr(n, 'summary', '') or getattr(n, 'description', '') or '(Sem resumo disponível)'}\"\n",
        "        for n in noticias[:max_noticias]\n",
        "    ])\n",
        "    prompt = (\n",
        "        \"Resuma em tópicos claros, diretos e em linguagem acessível as notícias abaixo, destacando sempre a ligação com o cliente. \"\n",
        "        \"Se houver informações repetidas, una em apenas um tópico. Use bullet points (•) para separar os pontos principais.\\n\\n\"\n",
        "        f\"{textos}\"\n",
        "    )\n",
        "    model = genai.GenerativeModel('gemini-2.0-flash')\n",
        "    resposta = model.generate_content(prompt)\n",
        "    return resposta.text\n",
        "\n",
        "def on_resumir_clicked(b):\n",
        "    global resumo\n",
        "    with saida_resumo:\n",
        "        clear_output()\n",
        "        idx_cliente = drop_clientes.value\n",
        "        noticias = noticias_cliente.get(idx_cliente, [])\n",
        "        if not noticias:\n",
        "            display(HTML('<div style=\"color:#fff; background:#c5004b; padding:8px; border-radius:6px;\">Nenhuma notícia disponível para resumir. Faça a busca antes.</div>'))\n",
        "            return\n",
        "        display(HTML('<div style=\"color:#fff; background:#0d6efd; padding:8px; border-radius:6px; margin-bottom:10px;\">Gerando resumo com IA... Aguarde alguns segundos.</div>'))\n",
        "        try:\n",
        "            resumo = resumir_noticias_gemini(noticias)\n",
        "            display(HTML(f\"\"\"\n",
        "            <div style=\"background: #f5f6fa; border-left: 4px solid #6f42c1; padding:14px; margin-bottom:10px; border-radius:8px;\">\n",
        "              <span style=\"color:#6f42c1; font-weight:bold; font-size:1.15em;\">Resumo Gerado:</span><br>\n",
        "              <pre style=\"white-space: pre-wrap; color:#222; font-size:1.05em; background:none; border:none; margin:0;\">{resumo}</pre>\n",
        "            </div>\n",
        "            \"\"\"))\n",
        "        except Exception as e:\n",
        "            display(HTML(f'<div style=\"color:#fff; background:#c5004b; padding:8px; border-radius:6px;\">Erro ao gerar resumo: {str(e)}</div>'))\n",
        "\n",
        "botao_resumir.on_click(on_resumir_clicked)\n",
        "\n",
        "display(botao_resumir)\n",
        "display(saida_resumo)\n"
      ],
      "metadata": {
        "colab": {
          "base_uri": "https://localhost:8080/",
          "height": 351,
          "referenced_widgets": [
            "641d2abce7594c3e889289f6950e8999",
            "380ea5a06bde4f11b6957f31b6d5b579",
            "58b8237d9a6d458085ec502b759848b9",
            "68b969dd32dc4cbe95376088a416020e",
            "f94740c30a0e4262af9e35a593393e7c"
          ]
        },
        "id": "eVJYDUD5F7JO",
        "outputId": "ae08afd3-adbc-45e1-eced-7657a269a4ff"
      },
      "execution_count": 14,
      "outputs": [
        {
          "output_type": "display_data",
          "data": {
            "text/plain": [
              "Button(description='Gerar Resumo com IA', layout=Layout(width='400px'), style=ButtonStyle(button_color='#6f42c…"
            ],
            "application/vnd.jupyter.widget-view+json": {
              "version_major": 2,
              "version_minor": 0,
              "model_id": "641d2abce7594c3e889289f6950e8999"
            }
          },
          "metadata": {}
        },
        {
          "output_type": "display_data",
          "data": {
            "text/plain": [
              "Output()"
            ],
            "application/vnd.jupyter.widget-view+json": {
              "version_major": 2,
              "version_minor": 0,
              "model_id": "68b969dd32dc4cbe95376088a416020e"
            }
          },
          "metadata": {}
        }
      ]
    },
    {
      "cell_type": "code",
      "source": [
        "# AGENTE 3: Classificação de Sentimento e Dicas\n",
        "\n",
        "MODELO_GEMINI = \"gemini-2.0-flash\"\n",
        "\n",
        "\n",
        "# AGENTE 3: Classificação de Sentimento e Dicas\n",
        "\n",
        "botao_classificar = widgets.Button(\n",
        "    description=\"Classificar Notícias\",\n",
        "    button_style='',\n",
        "    layout=widgets.Layout(width='400px'),\n",
        "    style={'button_color': '#ffc107', 'font_weight':'bold'}\n",
        ")\n",
        "saida_classificacao = widgets.Output()\n",
        "classificacoes_noticias = None\n",
        "\n",
        "def classificar_noticias(resumo_texto):\n",
        "    model = genai.GenerativeModel(MODELO_GEMINI)\n",
        "    prompt = (\n",
        "        \"Classifique cada notícia do resumo abaixo como positiva, neutra ou negativa, explicando o motivo em uma frase. \"\n",
        "        \"Retorne a classificação em formato de lista Python contendo dicionários com as chaves 'noticia', 'sentimento' e 'motivo'. \"\n",
        "        \"Exemplo:\\n\"\n",
        "        \"[{'noticia': 'Título...', 'sentimento': 'positiva', 'motivo': '...'}]\"\n",
        "        \"Não coloque nenhum bloco de código ou markdown, só a lista Python.\"\n",
        "    )\n",
        "    resposta = model.generate_content(prompt + \"\\n\\n\" + resumo_texto)\n",
        "    texto = resposta.text.strip()\n",
        "    # Remove blocos de markdown ```python e ``` se existirem\n",
        "    if texto.startswith(\"```\"):\n",
        "        texto = texto.split(\"```\")[1]\n",
        "    texto = texto.strip(\"` \\n\")\n",
        "    try:\n",
        "        import ast\n",
        "        texto = texto.replace('•', '-').strip()\n",
        "        if not texto.startswith('['):\n",
        "            texto = '[' + texto + ']'\n",
        "        return ast.literal_eval(texto)\n",
        "    except Exception as e:\n",
        "        print(f\"Erro ao avaliar a resposta do modelo: {e}\")\n",
        "        print(f\"Resposta bruta: {resposta.text}\")\n",
        "        return resposta.text\n",
        "\n",
        "def classificar_noticias_e_exibir(b):\n",
        "    global resumo, classificacoes_noticias\n",
        "    with saida_classificacao:\n",
        "        clear_output()\n",
        "        if not resumo:\n",
        "            display(HTML('<div style=\"color:#fff; background:#c5004b; padding:8px; border-radius:6px;\">Nenhum resumo disponível para classificar. Gere o resumo primeiro.</div>'))\n",
        "            return\n",
        "        display(HTML('<div style=\"color:#fff; background:#ffc107; padding:8px; border-radius:6px; margin-bottom:10px;\">Classificando as notícias... Aguarde.</div>'))\n",
        "        try:\n",
        "            classificacoes_noticias = classificar_noticias(resumo)\n",
        "            exibicao = \"\"\n",
        "            positivas_count = neutras_count = negativas_count = 0\n",
        "            if isinstance(classificacoes_noticias, list):\n",
        "                for item in classificacoes_noticias:\n",
        "                    if isinstance(item, dict) and 'noticia' in item and 'sentimento' in item and 'motivo' in item:\n",
        "                        exibicao += f\"<b>Notícia:</b> {item['noticia']}<br>\"\n",
        "                        exibicao += f\"<b>Sentimento:</b> {item['sentimento'].capitalize()}<br>\"\n",
        "                        exibicao += f\"<b>Motivo:</b> {item['motivo']}<br><hr>\"\n",
        "                        s = item['sentimento'].lower()\n",
        "                        if s == 'positiva': positivas_count += 1\n",
        "                        elif s == 'neutra': neutras_count += 1\n",
        "                        elif s == 'negativa': negativas_count += 1\n",
        "                display(HTML(f\"\"\"\n",
        "                <div style=\"background: #e9ecef; border-left: 4px solid #ffc107; padding:14px; margin-bottom:10px; border-radius:8px;\">\n",
        "                  <span style=\"color:#ffc107; font-weight:bold; font-size:1.15em;\">Classificação das Notícias:</span><br>\n",
        "                  <pre style=\"white-space: pre-wrap; color:#333; font-size:1.05em; background:none; border:none; margin:0;\">{exibicao}</pre>\n",
        "                </div>\n",
        "                \"\"\"))\n",
        "                # Gráfico\n",
        "                plt.figure(figsize=(6, 4))\n",
        "                labels = ['Positivas', 'Neutras', 'Negativas']\n",
        "                valores = [positivas_count, neutras_count, negativas_count]\n",
        "                plt.bar(labels, valores, color=['green', 'gray', 'red'])\n",
        "                plt.title('Classificação das Notícias', fontsize=14)\n",
        "                plt.ylabel('Número de Notícias', fontsize=10)\n",
        "                plt.show()\n",
        "            else:\n",
        "                display(HTML(f'<div style=\"color:#fff; background:#c5004b; padding:8px; border-radius:6px;\">Erro na classificação. Resposta bruta:<pre>{classificacoes_noticias}</pre></div>'))\n",
        "        except Exception as e:\n",
        "            display(HTML(f'<div style=\"color:#fff; background:#c5004b; padding:8px; border-radius:6px;\">Erro ao classificar as notícias: {str(e)}</div>'))\n",
        "\n",
        "botao_classificar.on_click(classificar_noticias_e_exibir)\n",
        "display(botao_classificar)\n",
        "display(saida_classificacao)\n",
        "\n",
        "# Dicas de reputação\n",
        "botao_dicas = widgets.Button(\n",
        "    description=\"Gerar Dicas de Reputação\",\n",
        "    button_style='',\n",
        "    layout=widgets.Layout(width='400px'),\n",
        "    style={'button_color': '#28a745', 'font_weight':'bold'}\n",
        ")\n",
        "saida_dicas = widgets.Output()\n",
        "dicas = None\n",
        "\n",
        "def dicas_reputacao(classificacoes_lista):\n",
        "    if not isinstance(classificacoes_lista, list):\n",
        "        return \"Não foi possível gerar dicas: classificação não está no formato esperado.\"\n",
        "    model = genai.GenerativeModel(MODELO_GEMINI)\n",
        "    dicas_gerais = []\n",
        "    for item in classificacoes_lista:\n",
        "        if isinstance(item, dict) and 'noticia' in item and 'sentimento' in item and 'motivo' in item:\n",
        "            prompt_especifico = f\"\"\"\n",
        "            Considerando a seguinte notícia e sua classificação de sentimento, forneça dicas de assessoria de imprensa como um especialista.\n",
        "            As dicas devem ser concisas e relevantes para a ação a ser tomada, focando em O QUE fazer.\n",
        "            Use bullet points (•) para listar as dicas.\n",
        "\n",
        "            Notícia: {item['noticia']}\n",
        "            Sentimento: {item['sentimento'].capitalize()}\n",
        "            Motivo: {item['motivo']}\n",
        "\n",
        "            Dicas de Assessoria de Imprensa:\n",
        "            \"\"\"\n",
        "            try:\n",
        "                resposta = model.generate_content(prompt_especifico)\n",
        "                dicas_gerais.append({\n",
        "                    'noticia': item['noticia'],\n",
        "                    'sentimento': item['sentimento'],\n",
        "                    'dicas': resposta.text\n",
        "                })\n",
        "            except Exception as e:\n",
        "                dicas_gerais.append({\n",
        "                    'noticia': item['noticia'],\n",
        "                    'sentimento': item['sentimento'],\n",
        "                    'dicas': f\"Erro ao gerar dicas para esta notícia: {str(e)}\"\n",
        "                })\n",
        "        else:\n",
        "            dicas_gerais.append({\n",
        "                'noticia': 'Item com formato inesperado',\n",
        "                'sentimento': 'indefinido',\n",
        "                'dicas': f\"Não foi possível gerar dicas para o item com formato inesperado: {item}\"\n",
        "            })\n",
        "    return dicas_gerais\n",
        "\n",
        "def gerar_dicas_e_exibir(b):\n",
        "    global classificacoes_noticias, dicas\n",
        "    with saida_dicas:\n",
        "        clear_output()\n",
        "        if not classificacoes_noticias or not isinstance(classificacoes_noticias, list):\n",
        "            display(HTML('<div style=\"color:#fff; background:#c5004b; padding:8px; border-radius:6px;\">Nenhuma classificação válida disponível. Classifique as notícias primeiro.</div>'))\n",
        "            return\n",
        "        display(HTML('<div style=\"color:#fff; background:#28a745; padding:8px; border-radius:6px; margin-bottom:10px;\">Gerando dicas de reputação... Aguarde.</div>'))\n",
        "        try:\n",
        "            dicas = dicas_reputacao(classificacoes_noticias)\n",
        "            exibicao_dicas = \"\"\n",
        "            if isinstance(dicas, list) and dicas:\n",
        "                for item in dicas:\n",
        "                    if isinstance(item, dict) and 'noticia' in item and 'sentimento' in item and 'dicas' in item:\n",
        "                        exibicao_dicas += f\"<b>Notícia:</b> {item['noticia']}<br>\"\n",
        "                        exibicao_dicas += f\"<b>Sentimento:</b> {item['sentimento'].capitalize()}<br>\"\n",
        "                        exibicao_dicas += f\"<span style='color:#28a745; font-weight:bold;'>Dicas:</span><br><pre style='white-space: pre-wrap; color:#333; font-size:1.05em; background:none; border:none; margin-left:10px;'>{item['dicas']}</pre><hr>\"\n",
        "                display(HTML(f\"\"\"\n",
        "                <div style=\"background: #e9ecef; border-left: 4px solid #28a745; padding:14px; margin-bottom:10px; border-radius:8px;\">\n",
        "                  <span style=\"color:#28a745; font-weight:bold; font-size:1.15em;\">Dicas de Reputação:</span><br>\n",
        "                  {exibicao_dicas}\n",
        "                </div>\n",
        "                \"\"\"))\n",
        "            else:\n",
        "                display(HTML(f'<div style=\"color:#fff; background:#6f42c1; padding:8px; border-radius:6px;\">{dicas if isinstance(dicas, str) else \"Nenhuma dica gerada ou formato inesperado.\"}</div>'))\n",
        "        except Exception as e:\n",
        "            display(HTML(f'<div style=\"color:#fff; background:#c5004b; padding:8px; border-radius:6px;\">Erro ao gerar dicas de reputação: {str(e)}</div>'))\n",
        "\n",
        "botao_dicas.on_click(gerar_dicas_e_exibir)\n",
        "display(botao_dicas)\n",
        "display(saida_dicas)\n",
        "\n"
      ],
      "metadata": {
        "colab": {
          "base_uri": "https://localhost:8080/",
          "height": 1000,
          "referenced_widgets": [
            "d7b33002bbfc4e379558bea86de3437c",
            "4350d11eea6a4f43a2ee6b6474308327",
            "decd9aabae874b668f6fbab89609c64f",
            "9f4f5cf3d90044d69042106b97b72ad9",
            "af20c4715c9d47c48aaa182bb3efefdb",
            "f7ae0874d9fe4559a6b50a6f348a3328",
            "ae99a6132d684abeb608815308d56c48",
            "389b07d960734a5aab2f083bdcb1086d",
            "b72d1e419a594c808d40a34186deaa17",
            "781077b041c1436592c9efb6fac0ac61"
          ]
        },
        "id": "Cuhn1qvEHOkW",
        "outputId": "26109f23-0e90-47bf-ef03-00e2af2f195b"
      },
      "execution_count": 17,
      "outputs": [
        {
          "output_type": "display_data",
          "data": {
            "text/plain": [
              "Button(description='Classificar Notícias', layout=Layout(width='400px'), style=ButtonStyle(button_color='#ffc1…"
            ],
            "application/vnd.jupyter.widget-view+json": {
              "version_major": 2,
              "version_minor": 0,
              "model_id": "d7b33002bbfc4e379558bea86de3437c"
            }
          },
          "metadata": {}
        },
        {
          "output_type": "display_data",
          "data": {
            "text/plain": [
              "Output()"
            ],
            "application/vnd.jupyter.widget-view+json": {
              "version_major": 2,
              "version_minor": 0,
              "model_id": "9f4f5cf3d90044d69042106b97b72ad9"
            }
          },
          "metadata": {}
        },
        {
          "output_type": "display_data",
          "data": {
            "text/plain": [
              "Button(description='Gerar Dicas de Reputação', layout=Layout(width='400px'), style=ButtonStyle(button_color='#…"
            ],
            "application/vnd.jupyter.widget-view+json": {
              "version_major": 2,
              "version_minor": 0,
              "model_id": "f7ae0874d9fe4559a6b50a6f348a3328"
            }
          },
          "metadata": {}
        },
        {
          "output_type": "display_data",
          "data": {
            "text/plain": [
              "Output()"
            ],
            "application/vnd.jupyter.widget-view+json": {
              "version_major": 2,
              "version_minor": 0,
              "model_id": "b72d1e419a594c808d40a34186deaa17"
            }
          },
          "metadata": {}
        }
      ]
    },
    {
      "cell_type": "code",
      "source": [
        "import unicodedata\n",
        "\n",
        "def limpa_para_pdf(texto):\n",
        "    if not texto:\n",
        "        return \"\"\n",
        "    texto = texto.replace(\"•\", \"-\").replace(\"*\", \"-\").replace(\"—\", \"-\").replace(\"–\", \"-\")\n",
        "    texto = texto.replace(\"“\", '\"').replace(\"”\", '\"').replace(\"‘\", \"'\").replace(\"’\", \"'\")\n",
        "    texto = ''.join(\n",
        "        c for c in unicodedata.normalize('NFKD', texto)\n",
        "        if ord(c) < 256\n",
        "    )\n",
        "    return texto\n",
        "\n",
        "botao_relatorio = widgets.Button(\n",
        "    description=\"Gerar Relatório PDF\",\n",
        "    button_style='',\n",
        "    layout=widgets.Layout(width='400px'),\n",
        "    style={'button_color': '#dc3545', 'font_weight':'bold'}\n",
        ")\n",
        "saida_relatorio = widgets.Output()\n",
        "\n",
        "def gerar_relatorio_pdf(b):\n",
        "    global resumo, classificacoes_noticias, dicas\n",
        "\n",
        "    with saida_relatorio:\n",
        "        clear_output()\n",
        "\n",
        "        if not resumo or not classificacoes_noticias or not isinstance(classificacoes_noticias, list):\n",
        "            display(HTML(\n",
        "                '<div style=\"color:#fff; background:#c5004b; padding:8px; border-radius:6px;\">'\n",
        "                'Resumo e Classificação necessários para gerar o relatório.</div>'))\n",
        "            return\n",
        "\n",
        "        if dicas is None or not isinstance(dicas, list):\n",
        "            try:\n",
        "                dicas_local = dicas_reputacao(classificacoes_noticias)\n",
        "                if isinstance(dicas_local, str):\n",
        "                    dicas_local = \"Não foi possível gerar as dicas para o relatório.\"\n",
        "            except Exception as e:\n",
        "                dicas_local = \"Erro ao gerar as dicas para o relatório.\"\n",
        "        else:\n",
        "            dicas_local = dicas\n",
        "\n",
        "        try:\n",
        "            # Prepara textos\n",
        "            classificacao_texto_pdf = \"\"\n",
        "            for item in classificacoes_noticias:\n",
        "                if isinstance(item, dict) and 'noticia' in item and 'sentimento' in item and 'motivo' in item:\n",
        "                    classificacao_texto_pdf += f\"- Notícia: {item['noticia']}\\n  Sentimento: {item['sentimento'].capitalize()}\\n  Motivo: {item['motivo']}\\n\\n\"\n",
        "                else:\n",
        "                    classificacao_texto_pdf += f\"- Item inesperado: {item}\\n\\n\"\n",
        "\n",
        "            dicas_texto_pdf = \"\"\n",
        "            if isinstance(dicas_local, list):\n",
        "                for item in dicas_local:\n",
        "                    if isinstance(item, dict) and 'noticia' in item and 'dicas' in item:\n",
        "                        dicas_texto_pdf += f\"- Notícia: {item['noticia']}\\n  Dicas: {item['dicas']}\\n\\n\"\n",
        "                    else:\n",
        "                        dicas_texto_pdf += f\"- Dica inesperada: {item}\\n\\n\"\n",
        "            else:\n",
        "                dicas_texto_pdf = str(dicas_local)\n",
        "\n",
        "            positivas = sum(1 for item in classificacoes_noticias if isinstance(item, dict) and item.get('sentimento', '').lower() == 'positiva')\n",
        "            neutras = sum(1 for item in classificacoes_noticias if isinstance(item, dict) and item.get('sentimento', '').lower() == 'neutra')\n",
        "            negativas = sum(1 for item in classificacoes_noticias if isinstance(item, dict) and item.get('sentimento', '').lower() == 'negativa')\n",
        "\n",
        "            plt.figure(figsize=(6, 4))\n",
        "            labels = ['Positivas', 'Neutras', 'Negativas']\n",
        "            valores = [positivas, neutras, negativas]\n",
        "            cores = ['#28a745', '#6c757d', '#dc3545']\n",
        "            plt.bar(labels, valores, color=cores)\n",
        "            plt.title('Classificação das Notícias', fontsize=15, color='#222')\n",
        "            plt.ylabel('Número de Notícias', fontsize=12)\n",
        "            plt.xticks(fontsize=12)\n",
        "            plt.yticks(range(0, max(valores) + 2 if valores else 2), fontsize=10)\n",
        "            plt.grid(axis='y', linestyle='--', alpha=0.5)\n",
        "            plt.tight_layout()\n",
        "            plt.savefig(\"grafico.png\", bbox_inches='tight')\n",
        "            plt.close()\n",
        "\n",
        "            from fpdf import FPDF\n",
        "            import datetime\n",
        "\n",
        "            pdf = FPDF()\n",
        "            pdf.add_page()\n",
        "            pdf.set_auto_page_break(auto=True, margin=12)\n",
        "            pdf.set_font(\"Arial\", size=14)\n",
        "\n",
        "            # Título\n",
        "            pdf.set_fill_color(111, 66, 193)\n",
        "            pdf.set_text_color(255, 255, 255)\n",
        "            pdf.cell(0, 16, txt=\"Relatório Executivo de Clipping Inteligente\", ln=1, align='C', fill=True)\n",
        "            pdf.ln(3)\n",
        "\n",
        "            pdf.set_text_color(80, 80, 80)\n",
        "            pdf.set_font(\"Arial\", size=10)\n",
        "            pdf.cell(0, 7, txt=\"Data de geração: \", ln=1)\n",
        "            pdf.set_font(\"Arial\", style='I', size=10)\n",
        "            pdf.cell(0, 7, txt=datetime.datetime.now().strftime(\"%d/%m/%Y %H:%M\"), ln=1)\n",
        "            pdf.ln(2)\n",
        "\n",
        "            # Resumo\n",
        "            pdf.set_font(\"Arial\", 'B', size=12)\n",
        "            pdf.set_text_color(33, 37, 41)\n",
        "            pdf.cell(0, 8, txt=\"Resumo das Notícias:\", ln=1)\n",
        "            pdf.set_font(\"Arial\", size=11)\n",
        "            pdf.multi_cell(0, 6, limpa_para_pdf(resumo))\n",
        "            pdf.ln(3)\n",
        "\n",
        "            # Classificação\n",
        "            pdf.set_font(\"Arial\", 'B', size=12)\n",
        "            pdf.cell(0, 8, txt=\"Classificação de Sentimento:\", ln=1)\n",
        "            pdf.set_font(\"Arial\", size=10)\n",
        "            pdf.multi_cell(0, 6, limpa_para_pdf(classificacao_texto_pdf))\n",
        "            pdf.ln(3)\n",
        "\n",
        "            # Dicas\n",
        "            pdf.set_font(\"Arial\", 'B', size=12)\n",
        "            pdf.cell(0, 8, txt=\"Dicas de Comunicação e Alertas:\", ln=1)\n",
        "            pdf.set_font(\"Arial\", size=10)\n",
        "            pdf.multi_cell(0, 6, limpa_para_pdf(dicas_texto_pdf))\n",
        "            pdf.ln(3)\n",
        "\n",
        "            # Gráfico\n",
        "            pdf.set_font(\"Arial\", 'B', size=12)\n",
        "            pdf.cell(0, 8, txt=\"Análise Visual:\", ln=1, align='C')\n",
        "            if os.path.exists(\"grafico.png\"):\n",
        "                pos_x = (pdf.w - 120) / 2\n",
        "                pdf.image(\"grafico.png\", x=pos_x, y=pdf.get_y(), w=120)\n",
        "                pdf.ln(90)\n",
        "            else:\n",
        "                pdf.set_text_color(220, 53, 69)\n",
        "                pdf.cell(0, 10, txt=\"Erro: Imagem do gráfico não encontrada.\", ln=1, align='C')\n",
        "                pdf.set_text_color(0, 0, 0)\n",
        "            pdf.ln(2)\n",
        "\n",
        "            # Rodapé\n",
        "            pdf.set_y(-22)\n",
        "            pdf.set_font(\"Arial\", style='I', size=9)\n",
        "            pdf.set_text_color(150, 150, 150)\n",
        "            pdf.cell(0, 8, limpa_para_pdf(\"Relatório gerado automaticamente pelo sistema Clipping Inteligente (Powered by Gemini AI)\"), 0, 0, 'C')\n",
        "\n",
        "            # Salvar PDF\n",
        "            nome_pdf = \"relatorio_clipping.pdf\"\n",
        "            pdf.output(nome_pdf)\n",
        "\n",
        "            # Baixar PDF automaticamente no Google Colab\n",
        "            from google.colab import files\n",
        "            files.download(nome_pdf)\n",
        "\n",
        "            display(HTML(\n",
        "                f'<div style=\"color:#fff; background:#28a745; padding:14px; border-radius:8px; font-size:1.09em;\">'\n",
        "                f'Relatório PDF gerado com sucesso e pronto para download!</div>'))\n",
        "\n",
        "        except Exception as e:\n",
        "            display(HTML(\n",
        "                f'<div style=\"color:#fff; background:#c5004b; padding:8px; border-radius:6px;\">'\n",
        "                f'Erro ao gerar o relatório PDF: {str(e)}</div>'))\n",
        "\n",
        "botao_relatorio.on_click(gerar_relatorio_pdf)\n",
        "display(botao_relatorio)\n",
        "display(saida_relatorio)\n",
        "\n",
        "\n",
        "\n"
      ],
      "metadata": {
        "colab": {
          "base_uri": "https://localhost:8080/",
          "height": 96,
          "referenced_widgets": [
            "e1ee6915ae074a24835299f2c92e89ef",
            "9854660c3768484c8343b9f6c768d912",
            "f047cd83f4954206ab104131ec46e997",
            "8431763a21b745b88c87caa4c1e0a13b",
            "9a1e4a5c78d14e9fb7ff1cd1365dcc0f"
          ]
        },
        "id": "58MqOLWZI9md",
        "outputId": "364d8d6d-e689-49ff-fc28-eaa06a8f930a"
      },
      "execution_count": 27,
      "outputs": [
        {
          "output_type": "display_data",
          "data": {
            "text/plain": [
              "Button(description='Gerar Relatório PDF', layout=Layout(width='400px'), style=ButtonStyle(button_color='#dc354…"
            ],
            "application/vnd.jupyter.widget-view+json": {
              "version_major": 2,
              "version_minor": 0,
              "model_id": "e1ee6915ae074a24835299f2c92e89ef"
            }
          },
          "metadata": {}
        },
        {
          "output_type": "display_data",
          "data": {
            "text/plain": [
              "Output()"
            ],
            "application/vnd.jupyter.widget-view+json": {
              "version_major": 2,
              "version_minor": 0,
              "model_id": "8431763a21b745b88c87caa4c1e0a13b"
            }
          },
          "metadata": {}
        }
      ]
    }
  ]
}